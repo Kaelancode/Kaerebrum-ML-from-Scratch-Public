{
 "cells": [
  {
   "cell_type": "markdown",
   "metadata": {},
   "source": [
    "##  Test  Kaerebrum Regression with Keras and Sklearn\n",
    "- test if module performs well in accuracy and speed as compare to current on-market application standards "
   ]
  },
  {
   "cell_type": "code",
   "execution_count": 1,
   "metadata": {},
   "outputs": [],
   "source": [
    "import sys\n",
    "sys.path.append(r'C:/Users/User/jupyter/KaelanML/')\n",
    "\n",
    "import pandas as pd\n",
    "import numpy as np\n",
    "\n",
    "from sklearn.model_selection import train_test_split\n",
    "\n",
    "from sklearn.metrics import mean_squared_error\n",
    "from sklearn.linear_model import LinearRegression as SKR\n",
    "\n",
    "from Kaerebrum.Regression import LogisticRegression, MultinomialRegression, LinearRegression\n",
    "\n",
    "pd.options.display.max_columns = 50\n",
    "np.set_printoptions(suppress= True)\n",
    "%matplotlib notebook"
   ]
  },
  {
   "cell_type": "code",
   "execution_count": 2,
   "metadata": {},
   "outputs": [],
   "source": [
    "# import data we need\n",
    "train = pd.read_csv(\"C:/Users/User/jupyter/Kaggle_Projects/30 days of ML/data/train.csv\",index_col=0)\n",
    "target = train[['target']]\n",
    "\n",
    "trainD= pd.get_dummies(train,drop_first=True)"
   ]
  },
  {
   "cell_type": "code",
   "execution_count": 3,
   "metadata": {},
   "outputs": [],
   "source": [
    "X_train, X_test, y_train, y_test = train_test_split(trainD,target , test_size=0.2, random_state= 12)"
   ]
  },
  {
   "cell_type": "markdown",
   "metadata": {},
   "source": [
    "#### SKlearn Model : SGDRegressor"
   ]
  },
  {
   "cell_type": "code",
   "execution_count": 23,
   "metadata": {},
   "outputs": [
    {
     "name": "stdout",
     "output_type": "stream",
     "text": [
      "Wall time: 549 ms\n"
     ]
    },
    {
     "data": {
      "text/plain": [
       "SGDRegressor(alpha=0.001, eta0=0.0001, learning_rate='constant', max_iter=10)"
      ]
     },
     "execution_count": 23,
     "metadata": {},
     "output_type": "execute_result"
    }
   ],
   "source": [
    "from sklearn.linear_model import SGDRegressor\n",
    "sgdRegressor = SGDRegressor(\n",
    "    alpha = 0.001,\n",
    "    loss='squared_loss',\n",
    "    max_iter=10,\n",
    "    eta0 = 0.0001,\n",
    "    learning_rate='constant',\n",
    ")\n",
    "\n",
    "%time sgdRegressor.fit(X_train.values,y_train.values.ravel())"
   ]
  },
  {
   "cell_type": "code",
   "execution_count": 28,
   "metadata": {},
   "outputs": [],
   "source": [
    "result = sgdRegressor.predict(X_test)"
   ]
  },
  {
   "cell_type": "code",
   "execution_count": 29,
   "metadata": {
    "scrolled": true
   },
   "outputs": [
    {
     "data": {
      "text/plain": [
       "array([7.65320495, 7.25563755, 8.73729278, ..., 8.33487196, 8.53872512,\n",
       "       8.45299482])"
      ]
     },
     "execution_count": 29,
     "metadata": {},
     "output_type": "execute_result"
    }
   ],
   "source": [
    "result"
   ]
  },
  {
   "cell_type": "code",
   "execution_count": 31,
   "metadata": {
    "scrolled": true
   },
   "outputs": [
    {
     "data": {
      "text/plain": [
       "0.002265758481202678"
      ]
     },
     "execution_count": 31,
     "metadata": {},
     "output_type": "execute_result"
    }
   ],
   "source": [
    "mean_squared_error(y_test,result,squared = False)"
   ]
  },
  {
   "cell_type": "code",
   "execution_count": 32,
   "metadata": {},
   "outputs": [
    {
     "data": {
      "text/plain": [
       "99.97796933534457"
      ]
     },
     "execution_count": 32,
     "metadata": {},
     "output_type": "execute_result"
    }
   ],
   "source": [
    "MAPE = np.mean(np.abs((y_test.values.ravel()- result)/y_test.values.ravel()))*100\n",
    "Accuracy = 100-MAPE\n",
    "Accuracy"
   ]
  },
  {
   "cell_type": "markdown",
   "metadata": {},
   "source": [
    "#### SKlearn Model: Linear"
   ]
  },
  {
   "cell_type": "code",
   "execution_count": 10,
   "metadata": {},
   "outputs": [
    {
     "data": {
      "text/plain": [
       "LinearRegression()"
      ]
     },
     "execution_count": 10,
     "metadata": {},
     "output_type": "execute_result"
    }
   ],
   "source": [
    "skmodel = SKR()\n",
    "skmodel.fit(X_train.values,y_train.values.ravel())"
   ]
  },
  {
   "cell_type": "code",
   "execution_count": 11,
   "metadata": {},
   "outputs": [
    {
     "name": "stdout",
     "output_type": "stream",
     "text": [
      "1.9690228674261394e-15\n"
     ]
    }
   ],
   "source": [
    "result = skmodel.predict(X_test.values)\n",
    "print(mean_squared_error(y_test,result,squared = False))"
   ]
  },
  {
   "cell_type": "code",
   "execution_count": 22,
   "metadata": {},
   "outputs": [
    {
     "data": {
      "text/plain": [
       "99.99999999999999"
      ]
     },
     "execution_count": 22,
     "metadata": {},
     "output_type": "execute_result"
    }
   ],
   "source": [
    "MAPE = np.mean(np.abs((y_test.values.ravel()- result)/y_test.values.ravel()))*100\n",
    "Accuracy = 100-MAPE\n",
    "Accuracy"
   ]
  },
  {
   "cell_type": "markdown",
   "metadata": {},
   "source": [
    "#### Keras"
   ]
  },
  {
   "cell_type": "code",
   "execution_count": null,
   "metadata": {},
   "outputs": [
    {
     "name": "stdout",
     "output_type": "stream",
     "text": [
      "Epoch 1/2\n",
      "240000/240000 [==============================] - 393s 2ms/step - loss: 0.0012 - mae: 0.0050 - mse: 0.0012\n",
      "Epoch 2/2\n",
      "188012/240000 [======================>.......] - ETA: 1:36 - loss: 6.1378e-06 - mae: 4.6000e-04 - mse: 6.1378e-06"
     ]
    }
   ],
   "source": [
    "import keras\n",
    "from keras.models import Sequential\n",
    "from keras.layers import Dense\n",
    "import tensorflow as tf \n",
    "\n",
    "model = keras.Sequential([\n",
    "      tf.keras.layers.Dense(1, use_bias=True, input_shape=(61,))\n",
    "    ])\n",
    "# Adam optimizer\n",
    "optimizer = tf.keras.optimizers.SGD(\n",
    "    learning_rate=0.001,  momentum=0.8,\n",
    "    nesterov=False, name=\"SGD\")\n",
    "  \n",
    "# Model compiling settings\n",
    "model.compile(loss='mse', optimizer=optimizer, metrics=['mae','mse'])\n",
    "%time model.fit(X_train.values, y_train.values.ravel(), epochs = 2, batch_size = 1)"
   ]
  },
  {
   "cell_type": "code",
   "execution_count": null,
   "metadata": {},
   "outputs": [],
   "source": [
    "kresult = model.predict(X_test.values)\n",
    "mean_squared_error(y_test,kresult,squared = False)"
   ]
  },
  {
   "cell_type": "code",
   "execution_count": null,
   "metadata": {},
   "outputs": [],
   "source": [
    "MAPE = np.mean(np.abs((y_test.values.ravel()- kresult.ravel())/y_test.values.ravel()))*100\n",
    "Accuracy = 100-MAPE\n",
    "Accuracy"
   ]
  },
  {
   "cell_type": "markdown",
   "metadata": {},
   "source": [
    "#### Karerebrum Regression: SGD"
   ]
  },
  {
   "cell_type": "code",
   "execution_count": 6,
   "metadata": {},
   "outputs": [
    {
     "name": "stdout",
     "output_type": "stream",
     "text": [
      "No of iterations/ n_iters: 10\n",
      "Learning rate/ alpha: 0.001\n",
      "Lamda/ ld: 0\n",
      "Loss Function: L2\n",
      "Regularization: L2\n",
      "Shuffle data on each iteration: True\n",
      "Batch size: 1\n",
      "Momentum: 0.8\n",
      "Optimizing Function: (Mini-Batch)Stocastic Descent with Momentum\n"
     ]
    },
    {
     "data": {
      "application/javascript": [
       "/* Put everything inside the global mpl namespace */\n",
       "/* global mpl */\n",
       "window.mpl = {};\n",
       "\n",
       "mpl.get_websocket_type = function () {\n",
       "    if (typeof WebSocket !== 'undefined') {\n",
       "        return WebSocket;\n",
       "    } else if (typeof MozWebSocket !== 'undefined') {\n",
       "        return MozWebSocket;\n",
       "    } else {\n",
       "        alert(\n",
       "            'Your browser does not have WebSocket support. ' +\n",
       "                'Please try Chrome, Safari or Firefox ≥ 6. ' +\n",
       "                'Firefox 4 and 5 are also supported but you ' +\n",
       "                'have to enable WebSockets in about:config.'\n",
       "        );\n",
       "    }\n",
       "};\n",
       "\n",
       "mpl.figure = function (figure_id, websocket, ondownload, parent_element) {\n",
       "    this.id = figure_id;\n",
       "\n",
       "    this.ws = websocket;\n",
       "\n",
       "    this.supports_binary = this.ws.binaryType !== undefined;\n",
       "\n",
       "    if (!this.supports_binary) {\n",
       "        var warnings = document.getElementById('mpl-warnings');\n",
       "        if (warnings) {\n",
       "            warnings.style.display = 'block';\n",
       "            warnings.textContent =\n",
       "                'This browser does not support binary websocket messages. ' +\n",
       "                'Performance may be slow.';\n",
       "        }\n",
       "    }\n",
       "\n",
       "    this.imageObj = new Image();\n",
       "\n",
       "    this.context = undefined;\n",
       "    this.message = undefined;\n",
       "    this.canvas = undefined;\n",
       "    this.rubberband_canvas = undefined;\n",
       "    this.rubberband_context = undefined;\n",
       "    this.format_dropdown = undefined;\n",
       "\n",
       "    this.image_mode = 'full';\n",
       "\n",
       "    this.root = document.createElement('div');\n",
       "    this.root.setAttribute('style', 'display: inline-block');\n",
       "    this._root_extra_style(this.root);\n",
       "\n",
       "    parent_element.appendChild(this.root);\n",
       "\n",
       "    this._init_header(this);\n",
       "    this._init_canvas(this);\n",
       "    this._init_toolbar(this);\n",
       "\n",
       "    var fig = this;\n",
       "\n",
       "    this.waiting = false;\n",
       "\n",
       "    this.ws.onopen = function () {\n",
       "        fig.send_message('supports_binary', { value: fig.supports_binary });\n",
       "        fig.send_message('send_image_mode', {});\n",
       "        if (fig.ratio !== 1) {\n",
       "            fig.send_message('set_dpi_ratio', { dpi_ratio: fig.ratio });\n",
       "        }\n",
       "        fig.send_message('refresh', {});\n",
       "    };\n",
       "\n",
       "    this.imageObj.onload = function () {\n",
       "        if (fig.image_mode === 'full') {\n",
       "            // Full images could contain transparency (where diff images\n",
       "            // almost always do), so we need to clear the canvas so that\n",
       "            // there is no ghosting.\n",
       "            fig.context.clearRect(0, 0, fig.canvas.width, fig.canvas.height);\n",
       "        }\n",
       "        fig.context.drawImage(fig.imageObj, 0, 0);\n",
       "    };\n",
       "\n",
       "    this.imageObj.onunload = function () {\n",
       "        fig.ws.close();\n",
       "    };\n",
       "\n",
       "    this.ws.onmessage = this._make_on_message_function(this);\n",
       "\n",
       "    this.ondownload = ondownload;\n",
       "};\n",
       "\n",
       "mpl.figure.prototype._init_header = function () {\n",
       "    var titlebar = document.createElement('div');\n",
       "    titlebar.classList =\n",
       "        'ui-dialog-titlebar ui-widget-header ui-corner-all ui-helper-clearfix';\n",
       "    var titletext = document.createElement('div');\n",
       "    titletext.classList = 'ui-dialog-title';\n",
       "    titletext.setAttribute(\n",
       "        'style',\n",
       "        'width: 100%; text-align: center; padding: 3px;'\n",
       "    );\n",
       "    titlebar.appendChild(titletext);\n",
       "    this.root.appendChild(titlebar);\n",
       "    this.header = titletext;\n",
       "};\n",
       "\n",
       "mpl.figure.prototype._canvas_extra_style = function (_canvas_div) {};\n",
       "\n",
       "mpl.figure.prototype._root_extra_style = function (_canvas_div) {};\n",
       "\n",
       "mpl.figure.prototype._init_canvas = function () {\n",
       "    var fig = this;\n",
       "\n",
       "    var canvas_div = (this.canvas_div = document.createElement('div'));\n",
       "    canvas_div.setAttribute(\n",
       "        'style',\n",
       "        'border: 1px solid #ddd;' +\n",
       "            'box-sizing: content-box;' +\n",
       "            'clear: both;' +\n",
       "            'min-height: 1px;' +\n",
       "            'min-width: 1px;' +\n",
       "            'outline: 0;' +\n",
       "            'overflow: hidden;' +\n",
       "            'position: relative;' +\n",
       "            'resize: both;'\n",
       "    );\n",
       "\n",
       "    function on_keyboard_event_closure(name) {\n",
       "        return function (event) {\n",
       "            return fig.key_event(event, name);\n",
       "        };\n",
       "    }\n",
       "\n",
       "    canvas_div.addEventListener(\n",
       "        'keydown',\n",
       "        on_keyboard_event_closure('key_press')\n",
       "    );\n",
       "    canvas_div.addEventListener(\n",
       "        'keyup',\n",
       "        on_keyboard_event_closure('key_release')\n",
       "    );\n",
       "\n",
       "    this._canvas_extra_style(canvas_div);\n",
       "    this.root.appendChild(canvas_div);\n",
       "\n",
       "    var canvas = (this.canvas = document.createElement('canvas'));\n",
       "    canvas.classList.add('mpl-canvas');\n",
       "    canvas.setAttribute('style', 'box-sizing: content-box;');\n",
       "\n",
       "    this.context = canvas.getContext('2d');\n",
       "\n",
       "    var backingStore =\n",
       "        this.context.backingStorePixelRatio ||\n",
       "        this.context.webkitBackingStorePixelRatio ||\n",
       "        this.context.mozBackingStorePixelRatio ||\n",
       "        this.context.msBackingStorePixelRatio ||\n",
       "        this.context.oBackingStorePixelRatio ||\n",
       "        this.context.backingStorePixelRatio ||\n",
       "        1;\n",
       "\n",
       "    this.ratio = (window.devicePixelRatio || 1) / backingStore;\n",
       "\n",
       "    var rubberband_canvas = (this.rubberband_canvas = document.createElement(\n",
       "        'canvas'\n",
       "    ));\n",
       "    rubberband_canvas.setAttribute(\n",
       "        'style',\n",
       "        'box-sizing: content-box; position: absolute; left: 0; top: 0; z-index: 1;'\n",
       "    );\n",
       "\n",
       "    // Apply a ponyfill if ResizeObserver is not implemented by browser.\n",
       "    if (this.ResizeObserver === undefined) {\n",
       "        if (window.ResizeObserver !== undefined) {\n",
       "            this.ResizeObserver = window.ResizeObserver;\n",
       "        } else {\n",
       "            var obs = _JSXTOOLS_RESIZE_OBSERVER({});\n",
       "            this.ResizeObserver = obs.ResizeObserver;\n",
       "        }\n",
       "    }\n",
       "\n",
       "    this.resizeObserverInstance = new this.ResizeObserver(function (entries) {\n",
       "        var nentries = entries.length;\n",
       "        for (var i = 0; i < nentries; i++) {\n",
       "            var entry = entries[i];\n",
       "            var width, height;\n",
       "            if (entry.contentBoxSize) {\n",
       "                if (entry.contentBoxSize instanceof Array) {\n",
       "                    // Chrome 84 implements new version of spec.\n",
       "                    width = entry.contentBoxSize[0].inlineSize;\n",
       "                    height = entry.contentBoxSize[0].blockSize;\n",
       "                } else {\n",
       "                    // Firefox implements old version of spec.\n",
       "                    width = entry.contentBoxSize.inlineSize;\n",
       "                    height = entry.contentBoxSize.blockSize;\n",
       "                }\n",
       "            } else {\n",
       "                // Chrome <84 implements even older version of spec.\n",
       "                width = entry.contentRect.width;\n",
       "                height = entry.contentRect.height;\n",
       "            }\n",
       "\n",
       "            // Keep the size of the canvas and rubber band canvas in sync with\n",
       "            // the canvas container.\n",
       "            if (entry.devicePixelContentBoxSize) {\n",
       "                // Chrome 84 implements new version of spec.\n",
       "                canvas.setAttribute(\n",
       "                    'width',\n",
       "                    entry.devicePixelContentBoxSize[0].inlineSize\n",
       "                );\n",
       "                canvas.setAttribute(\n",
       "                    'height',\n",
       "                    entry.devicePixelContentBoxSize[0].blockSize\n",
       "                );\n",
       "            } else {\n",
       "                canvas.setAttribute('width', width * fig.ratio);\n",
       "                canvas.setAttribute('height', height * fig.ratio);\n",
       "            }\n",
       "            canvas.setAttribute(\n",
       "                'style',\n",
       "                'width: ' + width + 'px; height: ' + height + 'px;'\n",
       "            );\n",
       "\n",
       "            rubberband_canvas.setAttribute('width', width);\n",
       "            rubberband_canvas.setAttribute('height', height);\n",
       "\n",
       "            // And update the size in Python. We ignore the initial 0/0 size\n",
       "            // that occurs as the element is placed into the DOM, which should\n",
       "            // otherwise not happen due to the minimum size styling.\n",
       "            if (fig.ws.readyState == 1 && width != 0 && height != 0) {\n",
       "                fig.request_resize(width, height);\n",
       "            }\n",
       "        }\n",
       "    });\n",
       "    this.resizeObserverInstance.observe(canvas_div);\n",
       "\n",
       "    function on_mouse_event_closure(name) {\n",
       "        return function (event) {\n",
       "            return fig.mouse_event(event, name);\n",
       "        };\n",
       "    }\n",
       "\n",
       "    rubberband_canvas.addEventListener(\n",
       "        'mousedown',\n",
       "        on_mouse_event_closure('button_press')\n",
       "    );\n",
       "    rubberband_canvas.addEventListener(\n",
       "        'mouseup',\n",
       "        on_mouse_event_closure('button_release')\n",
       "    );\n",
       "    rubberband_canvas.addEventListener(\n",
       "        'dblclick',\n",
       "        on_mouse_event_closure('dblclick')\n",
       "    );\n",
       "    // Throttle sequential mouse events to 1 every 20ms.\n",
       "    rubberband_canvas.addEventListener(\n",
       "        'mousemove',\n",
       "        on_mouse_event_closure('motion_notify')\n",
       "    );\n",
       "\n",
       "    rubberband_canvas.addEventListener(\n",
       "        'mouseenter',\n",
       "        on_mouse_event_closure('figure_enter')\n",
       "    );\n",
       "    rubberband_canvas.addEventListener(\n",
       "        'mouseleave',\n",
       "        on_mouse_event_closure('figure_leave')\n",
       "    );\n",
       "\n",
       "    canvas_div.addEventListener('wheel', function (event) {\n",
       "        if (event.deltaY < 0) {\n",
       "            event.step = 1;\n",
       "        } else {\n",
       "            event.step = -1;\n",
       "        }\n",
       "        on_mouse_event_closure('scroll')(event);\n",
       "    });\n",
       "\n",
       "    canvas_div.appendChild(canvas);\n",
       "    canvas_div.appendChild(rubberband_canvas);\n",
       "\n",
       "    this.rubberband_context = rubberband_canvas.getContext('2d');\n",
       "    this.rubberband_context.strokeStyle = '#000000';\n",
       "\n",
       "    this._resize_canvas = function (width, height, forward) {\n",
       "        if (forward) {\n",
       "            canvas_div.style.width = width + 'px';\n",
       "            canvas_div.style.height = height + 'px';\n",
       "        }\n",
       "    };\n",
       "\n",
       "    // Disable right mouse context menu.\n",
       "    this.rubberband_canvas.addEventListener('contextmenu', function (_e) {\n",
       "        event.preventDefault();\n",
       "        return false;\n",
       "    });\n",
       "\n",
       "    function set_focus() {\n",
       "        canvas.focus();\n",
       "        canvas_div.focus();\n",
       "    }\n",
       "\n",
       "    window.setTimeout(set_focus, 100);\n",
       "};\n",
       "\n",
       "mpl.figure.prototype._init_toolbar = function () {\n",
       "    var fig = this;\n",
       "\n",
       "    var toolbar = document.createElement('div');\n",
       "    toolbar.classList = 'mpl-toolbar';\n",
       "    this.root.appendChild(toolbar);\n",
       "\n",
       "    function on_click_closure(name) {\n",
       "        return function (_event) {\n",
       "            return fig.toolbar_button_onclick(name);\n",
       "        };\n",
       "    }\n",
       "\n",
       "    function on_mouseover_closure(tooltip) {\n",
       "        return function (event) {\n",
       "            if (!event.currentTarget.disabled) {\n",
       "                return fig.toolbar_button_onmouseover(tooltip);\n",
       "            }\n",
       "        };\n",
       "    }\n",
       "\n",
       "    fig.buttons = {};\n",
       "    var buttonGroup = document.createElement('div');\n",
       "    buttonGroup.classList = 'mpl-button-group';\n",
       "    for (var toolbar_ind in mpl.toolbar_items) {\n",
       "        var name = mpl.toolbar_items[toolbar_ind][0];\n",
       "        var tooltip = mpl.toolbar_items[toolbar_ind][1];\n",
       "        var image = mpl.toolbar_items[toolbar_ind][2];\n",
       "        var method_name = mpl.toolbar_items[toolbar_ind][3];\n",
       "\n",
       "        if (!name) {\n",
       "            /* Instead of a spacer, we start a new button group. */\n",
       "            if (buttonGroup.hasChildNodes()) {\n",
       "                toolbar.appendChild(buttonGroup);\n",
       "            }\n",
       "            buttonGroup = document.createElement('div');\n",
       "            buttonGroup.classList = 'mpl-button-group';\n",
       "            continue;\n",
       "        }\n",
       "\n",
       "        var button = (fig.buttons[name] = document.createElement('button'));\n",
       "        button.classList = 'mpl-widget';\n",
       "        button.setAttribute('role', 'button');\n",
       "        button.setAttribute('aria-disabled', 'false');\n",
       "        button.addEventListener('click', on_click_closure(method_name));\n",
       "        button.addEventListener('mouseover', on_mouseover_closure(tooltip));\n",
       "\n",
       "        var icon_img = document.createElement('img');\n",
       "        icon_img.src = '_images/' + image + '.png';\n",
       "        icon_img.srcset = '_images/' + image + '_large.png 2x';\n",
       "        icon_img.alt = tooltip;\n",
       "        button.appendChild(icon_img);\n",
       "\n",
       "        buttonGroup.appendChild(button);\n",
       "    }\n",
       "\n",
       "    if (buttonGroup.hasChildNodes()) {\n",
       "        toolbar.appendChild(buttonGroup);\n",
       "    }\n",
       "\n",
       "    var fmt_picker = document.createElement('select');\n",
       "    fmt_picker.classList = 'mpl-widget';\n",
       "    toolbar.appendChild(fmt_picker);\n",
       "    this.format_dropdown = fmt_picker;\n",
       "\n",
       "    for (var ind in mpl.extensions) {\n",
       "        var fmt = mpl.extensions[ind];\n",
       "        var option = document.createElement('option');\n",
       "        option.selected = fmt === mpl.default_extension;\n",
       "        option.innerHTML = fmt;\n",
       "        fmt_picker.appendChild(option);\n",
       "    }\n",
       "\n",
       "    var status_bar = document.createElement('span');\n",
       "    status_bar.classList = 'mpl-message';\n",
       "    toolbar.appendChild(status_bar);\n",
       "    this.message = status_bar;\n",
       "};\n",
       "\n",
       "mpl.figure.prototype.request_resize = function (x_pixels, y_pixels) {\n",
       "    // Request matplotlib to resize the figure. Matplotlib will then trigger a resize in the client,\n",
       "    // which will in turn request a refresh of the image.\n",
       "    this.send_message('resize', { width: x_pixels, height: y_pixels });\n",
       "};\n",
       "\n",
       "mpl.figure.prototype.send_message = function (type, properties) {\n",
       "    properties['type'] = type;\n",
       "    properties['figure_id'] = this.id;\n",
       "    this.ws.send(JSON.stringify(properties));\n",
       "};\n",
       "\n",
       "mpl.figure.prototype.send_draw_message = function () {\n",
       "    if (!this.waiting) {\n",
       "        this.waiting = true;\n",
       "        this.ws.send(JSON.stringify({ type: 'draw', figure_id: this.id }));\n",
       "    }\n",
       "};\n",
       "\n",
       "mpl.figure.prototype.handle_save = function (fig, _msg) {\n",
       "    var format_dropdown = fig.format_dropdown;\n",
       "    var format = format_dropdown.options[format_dropdown.selectedIndex].value;\n",
       "    fig.ondownload(fig, format);\n",
       "};\n",
       "\n",
       "mpl.figure.prototype.handle_resize = function (fig, msg) {\n",
       "    var size = msg['size'];\n",
       "    if (size[0] !== fig.canvas.width || size[1] !== fig.canvas.height) {\n",
       "        fig._resize_canvas(size[0], size[1], msg['forward']);\n",
       "        fig.send_message('refresh', {});\n",
       "    }\n",
       "};\n",
       "\n",
       "mpl.figure.prototype.handle_rubberband = function (fig, msg) {\n",
       "    var x0 = msg['x0'] / fig.ratio;\n",
       "    var y0 = (fig.canvas.height - msg['y0']) / fig.ratio;\n",
       "    var x1 = msg['x1'] / fig.ratio;\n",
       "    var y1 = (fig.canvas.height - msg['y1']) / fig.ratio;\n",
       "    x0 = Math.floor(x0) + 0.5;\n",
       "    y0 = Math.floor(y0) + 0.5;\n",
       "    x1 = Math.floor(x1) + 0.5;\n",
       "    y1 = Math.floor(y1) + 0.5;\n",
       "    var min_x = Math.min(x0, x1);\n",
       "    var min_y = Math.min(y0, y1);\n",
       "    var width = Math.abs(x1 - x0);\n",
       "    var height = Math.abs(y1 - y0);\n",
       "\n",
       "    fig.rubberband_context.clearRect(\n",
       "        0,\n",
       "        0,\n",
       "        fig.canvas.width / fig.ratio,\n",
       "        fig.canvas.height / fig.ratio\n",
       "    );\n",
       "\n",
       "    fig.rubberband_context.strokeRect(min_x, min_y, width, height);\n",
       "};\n",
       "\n",
       "mpl.figure.prototype.handle_figure_label = function (fig, msg) {\n",
       "    // Updates the figure title.\n",
       "    fig.header.textContent = msg['label'];\n",
       "};\n",
       "\n",
       "mpl.figure.prototype.handle_cursor = function (fig, msg) {\n",
       "    var cursor = msg['cursor'];\n",
       "    switch (cursor) {\n",
       "        case 0:\n",
       "            cursor = 'pointer';\n",
       "            break;\n",
       "        case 1:\n",
       "            cursor = 'default';\n",
       "            break;\n",
       "        case 2:\n",
       "            cursor = 'crosshair';\n",
       "            break;\n",
       "        case 3:\n",
       "            cursor = 'move';\n",
       "            break;\n",
       "    }\n",
       "    fig.rubberband_canvas.style.cursor = cursor;\n",
       "};\n",
       "\n",
       "mpl.figure.prototype.handle_message = function (fig, msg) {\n",
       "    fig.message.textContent = msg['message'];\n",
       "};\n",
       "\n",
       "mpl.figure.prototype.handle_draw = function (fig, _msg) {\n",
       "    // Request the server to send over a new figure.\n",
       "    fig.send_draw_message();\n",
       "};\n",
       "\n",
       "mpl.figure.prototype.handle_image_mode = function (fig, msg) {\n",
       "    fig.image_mode = msg['mode'];\n",
       "};\n",
       "\n",
       "mpl.figure.prototype.handle_history_buttons = function (fig, msg) {\n",
       "    for (var key in msg) {\n",
       "        if (!(key in fig.buttons)) {\n",
       "            continue;\n",
       "        }\n",
       "        fig.buttons[key].disabled = !msg[key];\n",
       "        fig.buttons[key].setAttribute('aria-disabled', !msg[key]);\n",
       "    }\n",
       "};\n",
       "\n",
       "mpl.figure.prototype.handle_navigate_mode = function (fig, msg) {\n",
       "    if (msg['mode'] === 'PAN') {\n",
       "        fig.buttons['Pan'].classList.add('active');\n",
       "        fig.buttons['Zoom'].classList.remove('active');\n",
       "    } else if (msg['mode'] === 'ZOOM') {\n",
       "        fig.buttons['Pan'].classList.remove('active');\n",
       "        fig.buttons['Zoom'].classList.add('active');\n",
       "    } else {\n",
       "        fig.buttons['Pan'].classList.remove('active');\n",
       "        fig.buttons['Zoom'].classList.remove('active');\n",
       "    }\n",
       "};\n",
       "\n",
       "mpl.figure.prototype.updated_canvas_event = function () {\n",
       "    // Called whenever the canvas gets updated.\n",
       "    this.send_message('ack', {});\n",
       "};\n",
       "\n",
       "// A function to construct a web socket function for onmessage handling.\n",
       "// Called in the figure constructor.\n",
       "mpl.figure.prototype._make_on_message_function = function (fig) {\n",
       "    return function socket_on_message(evt) {\n",
       "        if (evt.data instanceof Blob) {\n",
       "            var img = evt.data;\n",
       "            if (img.type !== 'image/png') {\n",
       "                /* FIXME: We get \"Resource interpreted as Image but\n",
       "                 * transferred with MIME type text/plain:\" errors on\n",
       "                 * Chrome.  But how to set the MIME type?  It doesn't seem\n",
       "                 * to be part of the websocket stream */\n",
       "                img.type = 'image/png';\n",
       "            }\n",
       "\n",
       "            /* Free the memory for the previous frames */\n",
       "            if (fig.imageObj.src) {\n",
       "                (window.URL || window.webkitURL).revokeObjectURL(\n",
       "                    fig.imageObj.src\n",
       "                );\n",
       "            }\n",
       "\n",
       "            fig.imageObj.src = (window.URL || window.webkitURL).createObjectURL(\n",
       "                img\n",
       "            );\n",
       "            fig.updated_canvas_event();\n",
       "            fig.waiting = false;\n",
       "            return;\n",
       "        } else if (\n",
       "            typeof evt.data === 'string' &&\n",
       "            evt.data.slice(0, 21) === 'data:image/png;base64'\n",
       "        ) {\n",
       "            fig.imageObj.src = evt.data;\n",
       "            fig.updated_canvas_event();\n",
       "            fig.waiting = false;\n",
       "            return;\n",
       "        }\n",
       "\n",
       "        var msg = JSON.parse(evt.data);\n",
       "        var msg_type = msg['type'];\n",
       "\n",
       "        // Call the  \"handle_{type}\" callback, which takes\n",
       "        // the figure and JSON message as its only arguments.\n",
       "        try {\n",
       "            var callback = fig['handle_' + msg_type];\n",
       "        } catch (e) {\n",
       "            console.log(\n",
       "                \"No handler for the '\" + msg_type + \"' message type: \",\n",
       "                msg\n",
       "            );\n",
       "            return;\n",
       "        }\n",
       "\n",
       "        if (callback) {\n",
       "            try {\n",
       "                // console.log(\"Handling '\" + msg_type + \"' message: \", msg);\n",
       "                callback(fig, msg);\n",
       "            } catch (e) {\n",
       "                console.log(\n",
       "                    \"Exception inside the 'handler_\" + msg_type + \"' callback:\",\n",
       "                    e,\n",
       "                    e.stack,\n",
       "                    msg\n",
       "                );\n",
       "            }\n",
       "        }\n",
       "    };\n",
       "};\n",
       "\n",
       "// from http://stackoverflow.com/questions/1114465/getting-mouse-location-in-canvas\n",
       "mpl.findpos = function (e) {\n",
       "    //this section is from http://www.quirksmode.org/js/events_properties.html\n",
       "    var targ;\n",
       "    if (!e) {\n",
       "        e = window.event;\n",
       "    }\n",
       "    if (e.target) {\n",
       "        targ = e.target;\n",
       "    } else if (e.srcElement) {\n",
       "        targ = e.srcElement;\n",
       "    }\n",
       "    if (targ.nodeType === 3) {\n",
       "        // defeat Safari bug\n",
       "        targ = targ.parentNode;\n",
       "    }\n",
       "\n",
       "    // pageX,Y are the mouse positions relative to the document\n",
       "    var boundingRect = targ.getBoundingClientRect();\n",
       "    var x = e.pageX - (boundingRect.left + document.body.scrollLeft);\n",
       "    var y = e.pageY - (boundingRect.top + document.body.scrollTop);\n",
       "\n",
       "    return { x: x, y: y };\n",
       "};\n",
       "\n",
       "/*\n",
       " * return a copy of an object with only non-object keys\n",
       " * we need this to avoid circular references\n",
       " * http://stackoverflow.com/a/24161582/3208463\n",
       " */\n",
       "function simpleKeys(original) {\n",
       "    return Object.keys(original).reduce(function (obj, key) {\n",
       "        if (typeof original[key] !== 'object') {\n",
       "            obj[key] = original[key];\n",
       "        }\n",
       "        return obj;\n",
       "    }, {});\n",
       "}\n",
       "\n",
       "mpl.figure.prototype.mouse_event = function (event, name) {\n",
       "    var canvas_pos = mpl.findpos(event);\n",
       "\n",
       "    if (name === 'button_press') {\n",
       "        this.canvas.focus();\n",
       "        this.canvas_div.focus();\n",
       "    }\n",
       "\n",
       "    var x = canvas_pos.x * this.ratio;\n",
       "    var y = canvas_pos.y * this.ratio;\n",
       "\n",
       "    this.send_message(name, {\n",
       "        x: x,\n",
       "        y: y,\n",
       "        button: event.button,\n",
       "        step: event.step,\n",
       "        guiEvent: simpleKeys(event),\n",
       "    });\n",
       "\n",
       "    /* This prevents the web browser from automatically changing to\n",
       "     * the text insertion cursor when the button is pressed.  We want\n",
       "     * to control all of the cursor setting manually through the\n",
       "     * 'cursor' event from matplotlib */\n",
       "    event.preventDefault();\n",
       "    return false;\n",
       "};\n",
       "\n",
       "mpl.figure.prototype._key_event_extra = function (_event, _name) {\n",
       "    // Handle any extra behaviour associated with a key event\n",
       "};\n",
       "\n",
       "mpl.figure.prototype.key_event = function (event, name) {\n",
       "    // Prevent repeat events\n",
       "    if (name === 'key_press') {\n",
       "        if (event.key === this._key) {\n",
       "            return;\n",
       "        } else {\n",
       "            this._key = event.key;\n",
       "        }\n",
       "    }\n",
       "    if (name === 'key_release') {\n",
       "        this._key = null;\n",
       "    }\n",
       "\n",
       "    var value = '';\n",
       "    if (event.ctrlKey && event.key !== 'Control') {\n",
       "        value += 'ctrl+';\n",
       "    }\n",
       "    else if (event.altKey && event.key !== 'Alt') {\n",
       "        value += 'alt+';\n",
       "    }\n",
       "    else if (event.shiftKey && event.key !== 'Shift') {\n",
       "        value += 'shift+';\n",
       "    }\n",
       "\n",
       "    value += 'k' + event.key;\n",
       "\n",
       "    this._key_event_extra(event, name);\n",
       "\n",
       "    this.send_message(name, { key: value, guiEvent: simpleKeys(event) });\n",
       "    return false;\n",
       "};\n",
       "\n",
       "mpl.figure.prototype.toolbar_button_onclick = function (name) {\n",
       "    if (name === 'download') {\n",
       "        this.handle_save(this, null);\n",
       "    } else {\n",
       "        this.send_message('toolbar_button', { name: name });\n",
       "    }\n",
       "};\n",
       "\n",
       "mpl.figure.prototype.toolbar_button_onmouseover = function (tooltip) {\n",
       "    this.message.textContent = tooltip;\n",
       "};\n",
       "\n",
       "///////////////// REMAINING CONTENT GENERATED BY embed_js.py /////////////////\n",
       "// prettier-ignore\n",
       "var _JSXTOOLS_RESIZE_OBSERVER=function(A){var t,i=new WeakMap,n=new WeakMap,a=new WeakMap,r=new WeakMap,o=new Set;function s(e){if(!(this instanceof s))throw new TypeError(\"Constructor requires 'new' operator\");i.set(this,e)}function h(){throw new TypeError(\"Function is not a constructor\")}function c(e,t,i,n){e=0 in arguments?Number(arguments[0]):0,t=1 in arguments?Number(arguments[1]):0,i=2 in arguments?Number(arguments[2]):0,n=3 in arguments?Number(arguments[3]):0,this.right=(this.x=this.left=e)+(this.width=i),this.bottom=(this.y=this.top=t)+(this.height=n),Object.freeze(this)}function d(){t=requestAnimationFrame(d);var s=new WeakMap,p=new Set;o.forEach((function(t){r.get(t).forEach((function(i){var r=t instanceof window.SVGElement,o=a.get(t),d=r?0:parseFloat(o.paddingTop),f=r?0:parseFloat(o.paddingRight),l=r?0:parseFloat(o.paddingBottom),u=r?0:parseFloat(o.paddingLeft),g=r?0:parseFloat(o.borderTopWidth),m=r?0:parseFloat(o.borderRightWidth),w=r?0:parseFloat(o.borderBottomWidth),b=u+f,F=d+l,v=(r?0:parseFloat(o.borderLeftWidth))+m,W=g+w,y=r?0:t.offsetHeight-W-t.clientHeight,E=r?0:t.offsetWidth-v-t.clientWidth,R=b+v,z=F+W,M=r?t.width:parseFloat(o.width)-R-E,O=r?t.height:parseFloat(o.height)-z-y;if(n.has(t)){var k=n.get(t);if(k[0]===M&&k[1]===O)return}n.set(t,[M,O]);var S=Object.create(h.prototype);S.target=t,S.contentRect=new c(u,d,M,O),s.has(i)||(s.set(i,[]),p.add(i)),s.get(i).push(S)}))})),p.forEach((function(e){i.get(e).call(e,s.get(e),e)}))}return s.prototype.observe=function(i){if(i instanceof window.Element){r.has(i)||(r.set(i,new Set),o.add(i),a.set(i,window.getComputedStyle(i)));var n=r.get(i);n.has(this)||n.add(this),cancelAnimationFrame(t),t=requestAnimationFrame(d)}},s.prototype.unobserve=function(i){if(i instanceof window.Element&&r.has(i)){var n=r.get(i);n.has(this)&&(n.delete(this),n.size||(r.delete(i),o.delete(i))),n.size||r.delete(i),o.size||cancelAnimationFrame(t)}},A.DOMRectReadOnly=c,A.ResizeObserver=s,A.ResizeObserverEntry=h,A}; // eslint-disable-line\n",
       "mpl.toolbar_items = [[\"Home\", \"Reset original view\", \"fa fa-home icon-home\", \"home\"], [\"Back\", \"Back to previous view\", \"fa fa-arrow-left icon-arrow-left\", \"back\"], [\"Forward\", \"Forward to next view\", \"fa fa-arrow-right icon-arrow-right\", \"forward\"], [\"\", \"\", \"\", \"\"], [\"Pan\", \"Left button pans, Right button zooms\\nx/y fixes axis, CTRL fixes aspect\", \"fa fa-arrows icon-move\", \"pan\"], [\"Zoom\", \"Zoom to rectangle\\nx/y fixes axis, CTRL fixes aspect\", \"fa fa-square-o icon-check-empty\", \"zoom\"], [\"\", \"\", \"\", \"\"], [\"Download\", \"Download plot\", \"fa fa-floppy-o icon-save\", \"download\"]];\n",
       "\n",
       "mpl.extensions = [\"eps\", \"jpeg\", \"pgf\", \"pdf\", \"png\", \"ps\", \"raw\", \"svg\", \"tif\"];\n",
       "\n",
       "mpl.default_extension = \"png\";/* global mpl */\n",
       "\n",
       "var comm_websocket_adapter = function (comm) {\n",
       "    // Create a \"websocket\"-like object which calls the given IPython comm\n",
       "    // object with the appropriate methods. Currently this is a non binary\n",
       "    // socket, so there is still some room for performance tuning.\n",
       "    var ws = {};\n",
       "\n",
       "    ws.binaryType = comm.kernel.ws.binaryType;\n",
       "    ws.readyState = comm.kernel.ws.readyState;\n",
       "    function updateReadyState(_event) {\n",
       "        if (comm.kernel.ws) {\n",
       "            ws.readyState = comm.kernel.ws.readyState;\n",
       "        } else {\n",
       "            ws.readyState = 3; // Closed state.\n",
       "        }\n",
       "    }\n",
       "    comm.kernel.ws.addEventListener('open', updateReadyState);\n",
       "    comm.kernel.ws.addEventListener('close', updateReadyState);\n",
       "    comm.kernel.ws.addEventListener('error', updateReadyState);\n",
       "\n",
       "    ws.close = function () {\n",
       "        comm.close();\n",
       "    };\n",
       "    ws.send = function (m) {\n",
       "        //console.log('sending', m);\n",
       "        comm.send(m);\n",
       "    };\n",
       "    // Register the callback with on_msg.\n",
       "    comm.on_msg(function (msg) {\n",
       "        //console.log('receiving', msg['content']['data'], msg);\n",
       "        var data = msg['content']['data'];\n",
       "        if (data['blob'] !== undefined) {\n",
       "            data = {\n",
       "                data: new Blob(msg['buffers'], { type: data['blob'] }),\n",
       "            };\n",
       "        }\n",
       "        // Pass the mpl event to the overridden (by mpl) onmessage function.\n",
       "        ws.onmessage(data);\n",
       "    });\n",
       "    return ws;\n",
       "};\n",
       "\n",
       "mpl.mpl_figure_comm = function (comm, msg) {\n",
       "    // This is the function which gets called when the mpl process\n",
       "    // starts-up an IPython Comm through the \"matplotlib\" channel.\n",
       "\n",
       "    var id = msg.content.data.id;\n",
       "    // Get hold of the div created by the display call when the Comm\n",
       "    // socket was opened in Python.\n",
       "    var element = document.getElementById(id);\n",
       "    var ws_proxy = comm_websocket_adapter(comm);\n",
       "\n",
       "    function ondownload(figure, _format) {\n",
       "        window.open(figure.canvas.toDataURL());\n",
       "    }\n",
       "\n",
       "    var fig = new mpl.figure(id, ws_proxy, ondownload, element);\n",
       "\n",
       "    // Call onopen now - mpl needs it, as it is assuming we've passed it a real\n",
       "    // web socket which is closed, not our websocket->open comm proxy.\n",
       "    ws_proxy.onopen();\n",
       "\n",
       "    fig.parent_element = element;\n",
       "    fig.cell_info = mpl.find_output_cell(\"<div id='\" + id + \"'></div>\");\n",
       "    if (!fig.cell_info) {\n",
       "        console.error('Failed to find cell for figure', id, fig);\n",
       "        return;\n",
       "    }\n",
       "    fig.cell_info[0].output_area.element.on(\n",
       "        'cleared',\n",
       "        { fig: fig },\n",
       "        fig._remove_fig_handler\n",
       "    );\n",
       "};\n",
       "\n",
       "mpl.figure.prototype.handle_close = function (fig, msg) {\n",
       "    var width = fig.canvas.width / fig.ratio;\n",
       "    fig.cell_info[0].output_area.element.off(\n",
       "        'cleared',\n",
       "        fig._remove_fig_handler\n",
       "    );\n",
       "    fig.resizeObserverInstance.unobserve(fig.canvas_div);\n",
       "\n",
       "    // Update the output cell to use the data from the current canvas.\n",
       "    fig.push_to_output();\n",
       "    var dataURL = fig.canvas.toDataURL();\n",
       "    // Re-enable the keyboard manager in IPython - without this line, in FF,\n",
       "    // the notebook keyboard shortcuts fail.\n",
       "    IPython.keyboard_manager.enable();\n",
       "    fig.parent_element.innerHTML =\n",
       "        '<img src=\"' + dataURL + '\" width=\"' + width + '\">';\n",
       "    fig.close_ws(fig, msg);\n",
       "};\n",
       "\n",
       "mpl.figure.prototype.close_ws = function (fig, msg) {\n",
       "    fig.send_message('closing', msg);\n",
       "    // fig.ws.close()\n",
       "};\n",
       "\n",
       "mpl.figure.prototype.push_to_output = function (_remove_interactive) {\n",
       "    // Turn the data on the canvas into data in the output cell.\n",
       "    var width = this.canvas.width / this.ratio;\n",
       "    var dataURL = this.canvas.toDataURL();\n",
       "    this.cell_info[1]['text/html'] =\n",
       "        '<img src=\"' + dataURL + '\" width=\"' + width + '\">';\n",
       "};\n",
       "\n",
       "mpl.figure.prototype.updated_canvas_event = function () {\n",
       "    // Tell IPython that the notebook contents must change.\n",
       "    IPython.notebook.set_dirty(true);\n",
       "    this.send_message('ack', {});\n",
       "    var fig = this;\n",
       "    // Wait a second, then push the new image to the DOM so\n",
       "    // that it is saved nicely (might be nice to debounce this).\n",
       "    setTimeout(function () {\n",
       "        fig.push_to_output();\n",
       "    }, 1000);\n",
       "};\n",
       "\n",
       "mpl.figure.prototype._init_toolbar = function () {\n",
       "    var fig = this;\n",
       "\n",
       "    var toolbar = document.createElement('div');\n",
       "    toolbar.classList = 'btn-toolbar';\n",
       "    this.root.appendChild(toolbar);\n",
       "\n",
       "    function on_click_closure(name) {\n",
       "        return function (_event) {\n",
       "            return fig.toolbar_button_onclick(name);\n",
       "        };\n",
       "    }\n",
       "\n",
       "    function on_mouseover_closure(tooltip) {\n",
       "        return function (event) {\n",
       "            if (!event.currentTarget.disabled) {\n",
       "                return fig.toolbar_button_onmouseover(tooltip);\n",
       "            }\n",
       "        };\n",
       "    }\n",
       "\n",
       "    fig.buttons = {};\n",
       "    var buttonGroup = document.createElement('div');\n",
       "    buttonGroup.classList = 'btn-group';\n",
       "    var button;\n",
       "    for (var toolbar_ind in mpl.toolbar_items) {\n",
       "        var name = mpl.toolbar_items[toolbar_ind][0];\n",
       "        var tooltip = mpl.toolbar_items[toolbar_ind][1];\n",
       "        var image = mpl.toolbar_items[toolbar_ind][2];\n",
       "        var method_name = mpl.toolbar_items[toolbar_ind][3];\n",
       "\n",
       "        if (!name) {\n",
       "            /* Instead of a spacer, we start a new button group. */\n",
       "            if (buttonGroup.hasChildNodes()) {\n",
       "                toolbar.appendChild(buttonGroup);\n",
       "            }\n",
       "            buttonGroup = document.createElement('div');\n",
       "            buttonGroup.classList = 'btn-group';\n",
       "            continue;\n",
       "        }\n",
       "\n",
       "        button = fig.buttons[name] = document.createElement('button');\n",
       "        button.classList = 'btn btn-default';\n",
       "        button.href = '#';\n",
       "        button.title = name;\n",
       "        button.innerHTML = '<i class=\"fa ' + image + ' fa-lg\"></i>';\n",
       "        button.addEventListener('click', on_click_closure(method_name));\n",
       "        button.addEventListener('mouseover', on_mouseover_closure(tooltip));\n",
       "        buttonGroup.appendChild(button);\n",
       "    }\n",
       "\n",
       "    if (buttonGroup.hasChildNodes()) {\n",
       "        toolbar.appendChild(buttonGroup);\n",
       "    }\n",
       "\n",
       "    // Add the status bar.\n",
       "    var status_bar = document.createElement('span');\n",
       "    status_bar.classList = 'mpl-message pull-right';\n",
       "    toolbar.appendChild(status_bar);\n",
       "    this.message = status_bar;\n",
       "\n",
       "    // Add the close button to the window.\n",
       "    var buttongrp = document.createElement('div');\n",
       "    buttongrp.classList = 'btn-group inline pull-right';\n",
       "    button = document.createElement('button');\n",
       "    button.classList = 'btn btn-mini btn-primary';\n",
       "    button.href = '#';\n",
       "    button.title = 'Stop Interaction';\n",
       "    button.innerHTML = '<i class=\"fa fa-power-off icon-remove icon-large\"></i>';\n",
       "    button.addEventListener('click', function (_evt) {\n",
       "        fig.handle_close(fig, {});\n",
       "    });\n",
       "    button.addEventListener(\n",
       "        'mouseover',\n",
       "        on_mouseover_closure('Stop Interaction')\n",
       "    );\n",
       "    buttongrp.appendChild(button);\n",
       "    var titlebar = this.root.querySelector('.ui-dialog-titlebar');\n",
       "    titlebar.insertBefore(buttongrp, titlebar.firstChild);\n",
       "};\n",
       "\n",
       "mpl.figure.prototype._remove_fig_handler = function (event) {\n",
       "    var fig = event.data.fig;\n",
       "    if (event.target !== this) {\n",
       "        // Ignore bubbled events from children.\n",
       "        return;\n",
       "    }\n",
       "    fig.close_ws(fig, {});\n",
       "};\n",
       "\n",
       "mpl.figure.prototype._root_extra_style = function (el) {\n",
       "    el.style.boxSizing = 'content-box'; // override notebook setting of border-box.\n",
       "};\n",
       "\n",
       "mpl.figure.prototype._canvas_extra_style = function (el) {\n",
       "    // this is important to make the div 'focusable\n",
       "    el.setAttribute('tabindex', 0);\n",
       "    // reach out to IPython and tell the keyboard manager to turn it's self\n",
       "    // off when our div gets focus\n",
       "\n",
       "    // location in version 3\n",
       "    if (IPython.notebook.keyboard_manager) {\n",
       "        IPython.notebook.keyboard_manager.register_events(el);\n",
       "    } else {\n",
       "        // location in version 2\n",
       "        IPython.keyboard_manager.register_events(el);\n",
       "    }\n",
       "};\n",
       "\n",
       "mpl.figure.prototype._key_event_extra = function (event, _name) {\n",
       "    var manager = IPython.notebook.keyboard_manager;\n",
       "    if (!manager) {\n",
       "        manager = IPython.keyboard_manager;\n",
       "    }\n",
       "\n",
       "    // Check for shift+enter\n",
       "    if (event.shiftKey && event.which === 13) {\n",
       "        this.canvas_div.blur();\n",
       "        // select the cell after this one\n",
       "        var index = IPython.notebook.find_cell_index(this.cell_info[0]);\n",
       "        IPython.notebook.select(index + 1);\n",
       "    }\n",
       "};\n",
       "\n",
       "mpl.figure.prototype.handle_save = function (fig, _msg) {\n",
       "    fig.ondownload(fig, null);\n",
       "};\n",
       "\n",
       "mpl.find_output_cell = function (html_output) {\n",
       "    // Return the cell and output element which can be found *uniquely* in the notebook.\n",
       "    // Note - this is a bit hacky, but it is done because the \"notebook_saving.Notebook\"\n",
       "    // IPython event is triggered only after the cells have been serialised, which for\n",
       "    // our purposes (turning an active figure into a static one), is too late.\n",
       "    var cells = IPython.notebook.get_cells();\n",
       "    var ncells = cells.length;\n",
       "    for (var i = 0; i < ncells; i++) {\n",
       "        var cell = cells[i];\n",
       "        if (cell.cell_type === 'code') {\n",
       "            for (var j = 0; j < cell.output_area.outputs.length; j++) {\n",
       "                var data = cell.output_area.outputs[j];\n",
       "                if (data.data) {\n",
       "                    // IPython >= 3 moved mimebundle to data attribute of output\n",
       "                    data = data.data;\n",
       "                }\n",
       "                if (data['text/html'] === html_output) {\n",
       "                    return [cell, data, j];\n",
       "                }\n",
       "            }\n",
       "        }\n",
       "    }\n",
       "};\n",
       "\n",
       "// Register the function which deals with the matplotlib target/channel.\n",
       "// The kernel may be null if the page has been refreshed.\n",
       "if (IPython.notebook.kernel !== null) {\n",
       "    IPython.notebook.kernel.comm_manager.register_target(\n",
       "        'matplotlib',\n",
       "        mpl.mpl_figure_comm\n",
       "    );\n",
       "}\n"
      ],
      "text/plain": [
       "<IPython.core.display.Javascript object>"
      ]
     },
     "metadata": {},
     "output_type": "display_data"
    },
    {
     "data": {
      "text/html": [
       "<img src=\"data:image/png;base64,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\" width=\"600\">"
      ],
      "text/plain": [
       "<IPython.core.display.HTML object>"
      ]
     },
     "metadata": {},
     "output_type": "display_data"
    },
    {
     "name": "stdout",
     "output_type": "stream",
     "text": [
      "\n",
      "Converged at threshold:0.001, epoch:2\n",
      "\n",
      "Min Cost: 5.954771139899697e-11\n",
      "Cost: 5.954771139899697e-11\n",
      "Wall time: 43.1 s\n"
     ]
    }
   ],
   "source": [
    "sgd = LinearRegression(alpha = 0.001,n_iters = 10)\n",
    "%time sgd.sgd_fit(X_train,y_train,batch = 1, threshold=1e-03,momentum=0.8,rand = True)"
   ]
  },
  {
   "cell_type": "code",
   "execution_count": 8,
   "metadata": {},
   "outputs": [
    {
     "data": {
      "text/plain": [
       "1.0531321202476165e-05"
      ]
     },
     "execution_count": 8,
     "metadata": {},
     "output_type": "execute_result"
    }
   ],
   "source": [
    "Predict_sgd = sgd.predict(X_test.values, y_test.values)             \n",
    "mean_squared_error(y_test,Predict_sgd,squared = False)"
   ]
  },
  {
   "cell_type": "code",
   "execution_count": 9,
   "metadata": {},
   "outputs": [
    {
     "name": "stdout",
     "output_type": "stream",
     "text": [
      "R2 = 0.9999999997985327\n",
      "R2_adjusted = 0.9999999997983277\n",
      "MAE = 5.183575177252006e-06\n",
      "MSE = 1.1090872626972403e-10\n",
      "RMSE = 1.0531321202476165e-05\n",
      "MAPE = 6.202636328624292e-05\n",
      "Accuracy = 99.99993797363672 %\n"
     ]
    },
    {
     "data": {
      "text/plain": [
       "(0.9999999997985327,\n",
       " 0.9999999997983277,\n",
       " 5.183575177252006e-06,\n",
       " 1.1090872626972403e-10,\n",
       " 1.0531321202476165e-05,\n",
       " 6.202636328624292e-05,\n",
       " 99.99993797363672)"
      ]
     },
     "execution_count": 9,
     "metadata": {},
     "output_type": "execute_result"
    }
   ],
   "source": [
    "sgd.metrics()"
   ]
  },
  {
   "cell_type": "markdown",
   "metadata": {},
   "source": [
    "#### Karerebrum Regression: Full batch "
   ]
  },
  {
   "cell_type": "code",
   "execution_count": 40,
   "metadata": {},
   "outputs": [
    {
     "name": "stdout",
     "output_type": "stream",
     "text": [
      "No of iterations/ n_iters: 10000\n",
      "Learning rate/ alpha: 0.001\n",
      "Lamda/ ld: 0\n",
      "Loss Function: L2\n",
      "Regularization: L2\n",
      "Shuffle data on each iteration: False\n",
      "Optimizing Function: Gradient Descent\n",
      "Iteration 10000 running, Current cost: 0.0006253936386166573\n",
      "Min Cost: 0.0006252766911000622\n",
      "Cost: 0.0006252766911000622\n",
      "Wall time: 2min 25s\n"
     ]
    }
   ],
   "source": [
    "batch = LinearRegression(alpha = 0.001,n_iters = 10000)\n",
    "%time batch.fit(X_train,y_train,threshold=1e-05, rand=False)"
   ]
  },
  {
   "cell_type": "code",
   "execution_count": 50,
   "metadata": {},
   "outputs": [
    {
     "data": {
      "text/plain": [
       "0.035169909339403206"
      ]
     },
     "execution_count": 50,
     "metadata": {},
     "output_type": "execute_result"
    }
   ],
   "source": [
    "Predict_batch = batch.predict(X_test.values,y_test.values)               \n",
    "mean_squared_error(y_test,Predict_batch,squared = False)"
   ]
  },
  {
   "cell_type": "code",
   "execution_count": 51,
   "metadata": {
    "scrolled": true
   },
   "outputs": [
    {
     "name": "stdout",
     "output_type": "stream",
     "text": [
      "R2 = 0.9977531119546785\n",
      "R2_adjusted = 0.9977508252555767\n",
      "MAE = 0.027935799509644546\n",
      "MSE = 0.001236922522941841\n",
      "RMSE = 0.035169909339403206\n",
      "MAPE = 0.3455890043386984\n",
      "Accuracy = 99.65441099566131 %\n"
     ]
    },
    {
     "data": {
      "text/plain": [
       "(0.9977531119546785,\n",
       " 0.9977508252555767,\n",
       " 0.027935799509644546,\n",
       " 0.001236922522941841,\n",
       " 0.035169909339403206,\n",
       " 0.3455890043386984,\n",
       " 99.65441099566131)"
      ]
     },
     "execution_count": 51,
     "metadata": {},
     "output_type": "execute_result"
    }
   ],
   "source": [
    "batch.metrics()"
   ]
  },
  {
   "cell_type": "markdown",
   "metadata": {},
   "source": [
    "#### Karerebrum Regression: Newton Method"
   ]
  },
  {
   "cell_type": "code",
   "execution_count": 14,
   "metadata": {
    "scrolled": true
   },
   "outputs": [
    {
     "name": "stdout",
     "output_type": "stream",
     "text": [
      "No of iterations/ n_iters: 1000\n",
      "Learning rate/ alpha: 0.01\n",
      "Lamda/ ld: 0\n",
      "Loss Function: L2\n",
      "Regularization: L2\n",
      "Shuffle data on each iteration: False\n",
      "Scipy optimise: TNC\n",
      "\n",
      "Min Cost: 3.170971082608648e-08\n",
      "Cost: 3.170971082608648e-08\n",
      "Wall time: 1.73 s\n"
     ]
    }
   ],
   "source": [
    "scipy = LinearRegression()\n",
    "%time scipy.scipy_fit(X_train,y_train)\n",
    "\n"
   ]
  },
  {
   "cell_type": "code",
   "execution_count": 15,
   "metadata": {},
   "outputs": [
    {
     "data": {
      "text/plain": [
       "0.0002036251753866365"
      ]
     },
     "execution_count": 15,
     "metadata": {},
     "output_type": "execute_result"
    }
   ],
   "source": [
    "Predict_batch = scipy.predict(X_test.values,y_test.values)               \n",
    "mean_squared_error(y_test,Predict_batch,squared = False)"
   ]
  },
  {
   "cell_type": "code",
   "execution_count": 16,
   "metadata": {
    "scrolled": false
   },
   "outputs": [
    {
     "name": "stdout",
     "output_type": "stream",
     "text": [
      "R2 = 0.9999999246814625\n",
      "R2_adjusted = 0.9999999246048095\n",
      "MAE = 4.12145604151799e-05\n",
      "MSE = 4.146321205123848e-08\n",
      "RMSE = 0.0002036251753866365\n",
      "MAPE = 0.0005046695553352634\n",
      "Accuracy = 99.99949533044466 %\n"
     ]
    },
    {
     "data": {
      "text/plain": [
       "(0.9999999246814625,\n",
       " 0.9999999246048095,\n",
       " 4.12145604151799e-05,\n",
       " 4.146321205123848e-08,\n",
       " 0.0002036251753866365,\n",
       " 0.0005046695553352634,\n",
       " 99.99949533044466)"
      ]
     },
     "execution_count": 16,
     "metadata": {},
     "output_type": "execute_result"
    }
   ],
   "source": [
    "scipy.metrics()"
   ]
  },
  {
   "cell_type": "markdown",
   "metadata": {},
   "source": [
    "#### Karerebrum Regression: Adam"
   ]
  },
  {
   "cell_type": "code",
   "execution_count": 17,
   "metadata": {},
   "outputs": [
    {
     "name": "stdout",
     "output_type": "stream",
     "text": [
      "No of iterations/ n_iters: 10\n",
      "Learning rate/ alpha: 0.001\n",
      "Lamda/ ld: 0\n",
      "Loss Function: L2\n",
      "Regularization: L2\n",
      "Shuffle data on each iteration: False\n",
      "Batch size: 1\n",
      "Momentum: 0.9\n",
      "Gamma: 0.95\n",
      "Optimizing Function: adam\n",
      "\n",
      "Converged at threshold:0.001, epoch:3\n",
      "\n",
      "Min Cost: 8.100806102731566e-06\n",
      "Cost: 8.100806102731566e-06\n",
      "Wall time: 43.8 s\n"
     ]
    }
   ],
   "source": [
    "adam = LinearRegression(alpha = 0.001, n_iters = 10)\n",
    "%time adam.adam_fit(X_train,y_train,batch = 1, momentum = 0.9,gamma = 0.95, threshold=1e-03, opt = 'adam', rand = False)"
   ]
  },
  {
   "cell_type": "code",
   "execution_count": 18,
   "metadata": {},
   "outputs": [
    {
     "data": {
      "text/plain": [
       "0.004017982384571805"
      ]
     },
     "execution_count": 18,
     "metadata": {},
     "output_type": "execute_result"
    }
   ],
   "source": [
    "adampred = adam.predict(X_test,y_test)           \n",
    "mean_squared_error(y_test,adampred,squared = False)"
   ]
  },
  {
   "cell_type": "code",
   "execution_count": 19,
   "metadata": {},
   "outputs": [
    {
     "name": "stdout",
     "output_type": "stream",
     "text": [
      "R2 = 0.9999706738539729\n",
      "R2_adjusted = 0.9999706440082171\n",
      "MAE = 0.0030819694516289937\n",
      "MSE = 1.6144182442729323e-05\n",
      "RMSE = 0.004017982384571805\n",
      "MAPE = 0.037713849824618846\n",
      "Accuracy = 99.96228615017539 %\n"
     ]
    },
    {
     "data": {
      "text/plain": [
       "(0.9999706738539729,\n",
       " 0.9999706440082171,\n",
       " 0.0030819694516289937,\n",
       " 1.6144182442729323e-05,\n",
       " 0.004017982384571805,\n",
       " 0.037713849824618846,\n",
       " 99.96228615017539)"
      ]
     },
     "execution_count": 19,
     "metadata": {},
     "output_type": "execute_result"
    }
   ],
   "source": [
    "adam.metrics()"
   ]
  },
  {
   "cell_type": "code",
   "execution_count": null,
   "metadata": {},
   "outputs": [],
   "source": []
  }
 ],
 "metadata": {
  "kernelspec": {
   "display_name": "tensor",
   "language": "python",
   "name": "tensor"
  },
  "language_info": {
   "codemirror_mode": {
    "name": "ipython",
    "version": 3
   },
   "file_extension": ".py",
   "mimetype": "text/x-python",
   "name": "python",
   "nbconvert_exporter": "python",
   "pygments_lexer": "ipython3",
   "version": "3.8.11"
  }
 },
 "nbformat": 4,
 "nbformat_minor": 4
}
