{
 "cells": [
  {
   "cell_type": "markdown",
   "metadata": {},
   "source": [
    "## Test  Kaerebrum Neural with Keras \n",
    "- test if module performs well in accuracy and speed ascompare to current available standards "
   ]
  },
  {
   "cell_type": "code",
   "execution_count": 1,
   "metadata": {},
   "outputs": [
    {
     "data": {
      "text/plain": [
       "<contextlib._GeneratorContextManager at 0x1901c609970>"
      ]
     },
     "execution_count": 1,
     "metadata": {},
     "output_type": "execute_result"
    }
   ],
   "source": [
    "import matplotlib.pyplot as plt\n",
    "import pandas\n",
    "import tensorflow as tf \n",
    "import keras\n",
    "import sys\n",
    "\n",
    "import numpy as np\n",
    "np.set_printoptions(suppress = True)\n",
    "np.printoptions(threshold=sys.maxsize)"
   ]
  },
  {
   "cell_type": "code",
   "execution_count": 2,
   "metadata": {},
   "outputs": [],
   "source": [
    "mnist = tf.keras.datasets.mnist\n",
    "(X_train, y_train), (X_valid, y_valid) = mnist.load_data()"
   ]
  },
  {
   "cell_type": "code",
   "execution_count": 3,
   "metadata": {},
   "outputs": [],
   "source": [
    "X_train = X_train.reshape(-1,28*28)/255\n",
    "X_valid = X_valid.reshape(-1,28*28)/255"
   ]
  },
  {
   "cell_type": "code",
   "execution_count": 4,
   "metadata": {},
   "outputs": [],
   "source": [
    "#with np.printoptions(threshold=sys.maxsize):\n",
    "       #print(X_train[1:5])"
   ]
  },
  {
   "cell_type": "markdown",
   "metadata": {},
   "source": [
    "## Keras Model"
   ]
  },
  {
   "cell_type": "code",
   "execution_count": 17,
   "metadata": {
    "scrolled": true
   },
   "outputs": [
    {
     "name": "stdout",
     "output_type": "stream",
     "text": [
      "Epoch 1/10\n",
      "1875/1875 [==============================] - 5s 2ms/step - loss: 0.4031 - accuracy: 0.8885\n",
      "Epoch 2/10\n",
      "1875/1875 [==============================] - 7s 3ms/step - loss: 0.2235 - accuracy: 0.9368\n",
      "Epoch 3/10\n",
      "1875/1875 [==============================] - 6s 3ms/step - loss: 0.1916 - accuracy: 0.9460\n",
      "Epoch 4/10\n",
      "1875/1875 [==============================] - 5s 3ms/step - loss: 0.1693 - accuracy: 0.9513\n",
      "Epoch 5/10\n",
      "1875/1875 [==============================] - 5s 3ms/step - loss: 0.1530 - accuracy: 0.9554\n",
      "Epoch 6/10\n",
      "1875/1875 [==============================] - 5s 3ms/step - loss: 0.1408 - accuracy: 0.9583\n",
      "Epoch 7/10\n",
      "1875/1875 [==============================] - 5s 3ms/step - loss: 0.1307 - accuracy: 0.9620\n",
      "Epoch 8/10\n",
      "1875/1875 [==============================] - 5s 3ms/step - loss: 0.1212 - accuracy: 0.9646\n",
      "Epoch 9/10\n",
      "1875/1875 [==============================] - 5s 3ms/step - loss: 0.1147 - accuracy: 0.9666\n",
      "Epoch 10/10\n",
      "1875/1875 [==============================] - 5s 3ms/step - loss: 0.1073 - accuracy: 0.9684\n",
      "Wall time: 52.7 s\n"
     ]
    },
    {
     "data": {
      "text/plain": [
       "<keras.callbacks.History at 0x2014ffaaf70>"
      ]
     },
     "execution_count": 17,
     "metadata": {},
     "output_type": "execute_result"
    }
   ],
   "source": [
    "from numpy.random import seed\n",
    "seed(0)\n",
    "\n",
    "model = tf.keras.Sequential()\n",
    "model.add(tf.keras.layers.Flatten())  \n",
    "model.add(tf.keras.layers.Dense(25, activation=tf.nn.relu))\n",
    "#model.add(tf.keras.layers.Dense(25, activation=tf.nn.sigmoid))\n",
    "model.add(tf.keras.layers.Dense(10, activation=tf.nn.sigmoid))\n",
    "#model.add(tf.keras.layers.Dense(10, activation = tf.nn.softmax))\n",
    "\n",
    "opt = tf.keras.optimizers.Adam(\n",
    "    learning_rate=0.001,\n",
    "    beta_1=0.9,\n",
    "    beta_2=0.999,\n",
    "    epsilon=1e-07,\n",
    "    amsgrad=False\n",
    ")\n",
    "model.compile(optimizer = opt, loss = 'sparse_categorical_crossentropy', metrics = ['accuracy'])\n",
    "%time model.fit(X_train, y_train, epochs = 10, batch_size = 32)"
   ]
  },
  {
   "cell_type": "code",
   "execution_count": 23,
   "metadata": {},
   "outputs": [
    {
     "data": {
      "text/plain": [
       "0.9581"
      ]
     },
     "execution_count": 23,
     "metadata": {},
     "output_type": "execute_result"
    }
   ],
   "source": [
    "predictions = model.predict(X_valid)\n",
    "results = np.argmax(predictions, 1)\n",
    "accuracy = np.sum(results==y_valid)/y_valid.shape[0]\n",
    "accuracy"
   ]
  },
  {
   "cell_type": "markdown",
   "metadata": {},
   "source": [
    "## Kaerebrum model "
   ]
  },
  {
   "cell_type": "code",
   "execution_count": 7,
   "metadata": {},
   "outputs": [],
   "source": [
    "from Kaerebrum.utils import *\n",
    "from Kaerebrum import Axon"
   ]
  },
  {
   "cell_type": "markdown",
   "metadata": {},
   "source": [
    "#### Instructions on methods\n",
    "from Kaerebrum.Neural import Axon\n",
    "\n",
    "Call on class function Axon\n",
    "\n",
    ".1 First argument is a list\n",
    "   - length of list determined the number of hidden layers\n",
    "   - each number in the list represents the no of nodes in that layer\n",
    "   - example [100, 50, 20] will represent 100 nodes in 1st hidden layer and 50 nodes in second and 20 nodes in last hidden layer \n",
    "   - input layer and and output layer will nopt be included in this list\n",
    "   \n",
    ".2 Second argument is the number of nodes in the output \n",
    " \n",
    ".3 Third argument is the distribution of the  weights. \n",
    "   - 'N' for normal\n",
    "   - 'U' for uniform\n",
    "   - '0' initialize weights as 0\n",
    "   -  None initialize weights as rand - 0.5\n",
    "   \n",
    ".4 Fourth argument is the weights initialization method\n",
    "   - 'He' Kaiming method\n",
    "   - 'X' Xavier method"
   ]
  },
  {
   "cell_type": "code",
   "execution_count": 8,
   "metadata": {},
   "outputs": [],
   "source": [
    "from numpy.random import seed\n",
    "seed(0) \n",
    "test = Axon([ 25], 10, 'N', 'He')"
   ]
  },
  {
   "cell_type": "markdown",
   "metadata": {},
   "source": [
    ".5 the build method lets you input the activation functions and the prefered optimizer\n",
    "   - activation function is the first argument . Number of activations will be equivilent to the number of hidden layer indicated in the initialization of Axon\n",
    "   - at this point only relu and sigmiod function \n",
    "   - adam and momentum for optimizing function\n",
    "   \n",
    ".6 the train method is quite self explainatory for its arguments in the example below. For full batch training set batch = 0 \n",
    "\n",
    "**Press and hold 'Q' to kill off training process**"
   ]
  },
  {
   "cell_type": "code",
   "execution_count": 10,
   "metadata": {},
   "outputs": [
    {
     "name": "stdout",
     "output_type": "stream",
     "text": [
      "[784, 25, 10]\n",
      "No of iterations/ n_iters: 10\n",
      "Learning rate/ alpha: 0.001\n",
      "Optimizer <function adam at 0x00000190289C5160>\n",
      "Loss Function: <function logloss at 0x00000190289C5310>\n",
      "Regularization: None\n",
      "Shuffle data on each iteration: False\n",
      "Current accuracy: 0.9167833333333333 for epoch 1:\n",
      "Cost: 0.17665403785069306\n",
      "Current accuracy: 0.9330666666666667 for epoch 2:\n",
      "Cost: 0.13600304279924363\n",
      "Current accuracy: 0.9410333333333334 for epoch 3:\n",
      "Cost: 0.11933435225910459\n",
      "Current accuracy: 0.9470833333333334 for epoch 4:\n",
      "Cost: 0.10028141951577041\n",
      "Current accuracy: 0.95135 for epoch 5:\n",
      "Cost: 0.08676458727587663\n",
      "Current accuracy: 0.95515 for epoch 6:\n",
      "Cost: 0.07896442769981007\n",
      "Current accuracy: 0.95755 for epoch 7:\n",
      "Cost: 0.07749329913443376\n",
      "Current accuracy: 0.9601166666666666 for epoch 8:\n",
      "Cost: 0.08300501741261915\n",
      "Current accuracy: 0.9614666666666667 for epoch 9:\n",
      "Cost: 0.08215498077869245\n",
      "Current accuracy: 0.9633 for epoch 10:\n",
      "Cost: 0.07814286528389691\n",
      "Wall time: 36.1 s\n"
     ]
    }
   ],
   "source": [
    "test.build([relu, sigmoid], optimizer=adam)   # momentum \n",
    "%time pred = test.train(X_train, y_train, epoch = 10, alpha=0.001, batch=32) "
   ]
  },
  {
   "cell_type": "code",
   "execution_count": 21,
   "metadata": {},
   "outputs": [],
   "source": [
    "pred = test.predict(X_valid)  # predict returns a 2 layer array. 1 st layer be the results and 2nd layer indicate the probablities for each result "
   ]
  },
  {
   "cell_type": "code",
   "execution_count": 22,
   "metadata": {},
   "outputs": [
    {
     "data": {
      "text/plain": [
       "0.9547"
      ]
     },
     "execution_count": 22,
     "metadata": {},
     "output_type": "execute_result"
    }
   ],
   "source": [
    "test.accuracy(pred[0], y_valid)"
   ]
  },
  {
   "cell_type": "markdown",
   "metadata": {},
   "source": [
    "#### View params / biases /gradients"
   ]
  },
  {
   "cell_type": "code",
   "execution_count": 34,
   "metadata": {},
   "outputs": [
    {
     "data": {
      "text/plain": [
       "array([[0., 0., 0., ..., 0., 0., 0.],\n",
       "       [0., 0., 0., ..., 0., 0., 0.],\n",
       "       [0., 0., 0., ..., 0., 0., 0.],\n",
       "       ...,\n",
       "       [0., 0., 0., ..., 0., 0., 0.],\n",
       "       [0., 0., 0., ..., 0., 0., 0.],\n",
       "       [0., 0., 0., ..., 0., 0., 0.]])"
      ]
     },
     "execution_count": 34,
     "metadata": {},
     "output_type": "execute_result"
    }
   ],
   "source": [
    "# test.params\n",
    "# test.biases\n",
    "test.gradients[0]"
   ]
  },
  {
   "cell_type": "markdown",
   "metadata": {},
   "source": [
    "#### View activated layers"
   ]
  },
  {
   "cell_type": "code",
   "execution_count": 28,
   "metadata": {},
   "outputs": [
    {
     "data": {
      "text/plain": [
       "[array([[0., 0., 0., ..., 0., 0., 0.],\n",
       "        [0., 0., 0., ..., 0., 0., 0.],\n",
       "        [0., 0., 0., ..., 0., 0., 0.],\n",
       "        ...,\n",
       "        [0., 0., 0., ..., 0., 0., 0.],\n",
       "        [0., 0., 0., ..., 0., 0., 0.],\n",
       "        [0., 0., 0., ..., 0., 0., 0.]]),\n",
       " array([[ 0.        ,  0.        , 11.68386083, ...,  0.        ,\n",
       "          4.6739571 ,  1.45270032],\n",
       "        [ 0.        ,  0.        ,  5.11970026, ...,  0.        ,\n",
       "         12.55072313,  1.72222856],\n",
       "        [ 0.        ,  2.05112385,  0.71540894, ...,  0.        ,\n",
       "          4.64631603,  3.14154556],\n",
       "        ...,\n",
       "        [ 0.        ,  4.15772228,  6.73855122, ...,  0.        ,\n",
       "          3.02388273,  1.68794535],\n",
       "        [ 0.        ,  0.        ,  0.        , ...,  0.181006  ,\n",
       "          6.21584025,  9.86009709],\n",
       "        [ 0.        ,  0.        ,  1.77154176, ...,  0.        ,\n",
       "          8.22769435,  0.        ]]),\n",
       " array([[0.00000111, 0.        , 0.00001185, ..., 0.99615231, 0.00001759,\n",
       "         0.00019593],\n",
       "        [0.00033205, 0.02473546, 0.80766274, ..., 0.        , 0.00000005,\n",
       "         0.        ],\n",
       "        [0.00003702, 0.99826627, 0.00234627, ..., 0.00161289, 0.00149257,\n",
       "         0.00047681],\n",
       "        ...,\n",
       "        [0.00000001, 0.        , 0.0000001 , ..., 0.00252832, 0.00031219,\n",
       "         0.0067097 ],\n",
       "        [0.        , 0.00003744, 0.00000019, ..., 0.00000004, 0.01551773,\n",
       "         0.        ],\n",
       "        [0.00000316, 0.        , 0.00000006, ..., 0.        , 0.00000001,\n",
       "         0.        ]])]"
      ]
     },
     "execution_count": 28,
     "metadata": {},
     "output_type": "execute_result"
    }
   ],
   "source": [
    "test._activated_layers"
   ]
  },
  {
   "cell_type": "code",
   "execution_count": null,
   "metadata": {},
   "outputs": [],
   "source": []
  }
 ],
 "metadata": {
  "kernelspec": {
   "display_name": "tensor",
   "language": "python",
   "name": "tensor"
  },
  "language_info": {
   "codemirror_mode": {
    "name": "ipython",
    "version": 3
   },
   "file_extension": ".py",
   "mimetype": "text/x-python",
   "name": "python",
   "nbconvert_exporter": "python",
   "pygments_lexer": "ipython3",
   "version": "3.8.11"
  }
 },
 "nbformat": 4,
 "nbformat_minor": 4
}
