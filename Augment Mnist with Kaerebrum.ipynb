{
 "cells": [
  {
   "cell_type": "markdown",
   "metadata": {},
   "source": [
    "## TRAIN with Kaerebrum on AUGMENTED MNIST DATASET"
   ]
  },
  {
   "cell_type": "code",
   "execution_count": 1,
   "metadata": {},
   "outputs": [],
   "source": [
    "import matplotlib.pyplot as plt\n",
    "import pandas\n",
    "import tensorflow as tf \n",
    "\n",
    "\n",
    "# append path as needed for your own machine\n",
    "import sys\n",
    "sys.path.append(r'C:\\Users\\User\\jupyter\\KaelanML')\n",
    "sys.path.append(r'C:\\Users\\User\\jupyter\\KaelanML\\mlcode')\n",
    "\n",
    "import numpy as np\n",
    "np.set_printoptions(suppress = True)\n",
    "np.printoptions(threshold=sys.maxsize)\n",
    "import gzip\n",
    "# test set  \n",
    "with open(r'C:\\Users\\User\\jupyter\\KaelanML\\testcode\\b0cdab8e37ae7c1c5560ee858afaac1d', \"rb\") as f: \n",
    "    datatest = f.read()\n",
    "\n",
    "with open(r'C:\\Users\\User\\jupyter\\KaelanML\\testcode\\d4fdde61aca9f72d5fe2315410bb46a5', \"rb\") as f:\n",
    "    datatest2 = f.read()\n",
    "    \n",
    "# train set\n",
    "with open(r'C:\\Users\\User\\jupyter\\KaelanML\\testcode\\23278f029ff68f1e993776e500ce06b9', \"rb\") as f:\n",
    "    datatrain = f.read()\n",
    "\n",
    "with open(r'C:\\Users\\User\\jupyter\\KaelanML\\testcode\\d8b415e67abd11881e156b8f111d3300', \"rb\") as f:\n",
    "    datatrain2 = f.read()\n",
    "\n",
    "X_train = np.frombuffer(gzip.decompress(datatrain), dtype=np.uint8)[0x10:].reshape(-1, 28,28)\n",
    "y_train = np.frombuffer(gzip.decompress(datatrain2), dtype=np.uint8)[8:]\n",
    "X_valid = np.frombuffer(gzip.decompress(datatest), dtype=np.uint8)[0x10:].reshape(-1, 28,28)\n",
    "y_valid = np.frombuffer(gzip.decompress(datatest2), dtype=np.uint8)[8:]"
   ]
  },
  {
   "cell_type": "code",
   "execution_count": 7,
   "metadata": {},
   "outputs": [],
   "source": [
    "#with np.printoptions(threshold=sys.maxsize):\n",
    "    #print(X_train[3])\n",
    "    \n",
    "#%reset out # to clear variables from memory"
   ]
  },
  {
   "cell_type": "markdown",
   "metadata": {},
   "source": [
    "## Create Augmented Data\n",
    "\n",
    "Base 60k images from Mnist dataset.\n",
    "\n",
    "Augment:\n",
    "1. Rotate image 40 degree 1)left, 2)right    \n",
    "60k * 2 + 60k base imagees\n",
    "2. Move image 3)left  4)right  5)up  6)down  \n",
    "180k * 4 + 180k rotated images \n",
    "\n",
    "Total 900,000 image\n"
   ]
  },
  {
   "cell_type": "markdown",
   "metadata": {},
   "source": [
    "## Test out effects"
   ]
  },
  {
   "cell_type": "code",
   "execution_count": 2,
   "metadata": {},
   "outputs": [
    {
     "data": {
      "text/plain": [
       "'L'"
      ]
     },
     "execution_count": 2,
     "metadata": {},
     "output_type": "execute_result"
    }
   ],
   "source": [
    "# not converting image to BW as image is already in BW (black and white)\n",
    "from PIL import Image\n",
    "bw_array = X_train[120]\n",
    "bw_image = Image.fromarray(bw_array) # convert into image\n",
    "bw_image.mode # default in black and white"
   ]
  },
  {
   "cell_type": "code",
   "execution_count": 3,
   "metadata": {
    "scrolled": true
   },
   "outputs": [
    {
     "data": {
      "image/png": "[encoded data removed]",
      "text/plain": [
       "<PIL.Image.Image image mode=L size=28x28 at 0x23906995070>"
      ]
     },
     "execution_count": 3,
     "metadata": {},
     "output_type": "execute_result"
    }
   ],
   "source": [
    "bw_image"
   ]
  },
  {
   "cell_type": "markdown",
   "metadata": {},
   "source": [
    "### Rotate"
   ]
  },
  {
   "cell_type": "code",
   "execution_count": 7,
   "metadata": {},
   "outputs": [
    {
     "data": {
      "text/plain": [
       "<matplotlib.image.AxesImage at 0x25d4c4d0fd0>"
      ]
     },
     "execution_count": 7,
     "metadata": {},
     "output_type": "execute_result"
    },
    {
     "data": {
      "image/png": "[encoded data removed]",
      "text/plain": [
       "<Figure size 432x288 with 1 Axes>"
      ]
     },
     "metadata": {
      "needs_background": "light"
     },
     "output_type": "display_data"
    }
   ],
   "source": [
    "# image rotated to left\n",
    "rotated = bw_image.rotate(40, Image.BILINEAR, expand = False) \n",
    "plt.imshow(rotated)"
   ]
  },
  {
   "cell_type": "code",
   "execution_count": 12,
   "metadata": {},
   "outputs": [
    {
     "data": {
      "text/plain": [
       "<matplotlib.image.AxesImage at 0x25d4fc19400>"
      ]
     },
     "execution_count": 12,
     "metadata": {},
     "output_type": "execute_result"
    },
    {
     "data": {
      "image/png": "[encoded data removed]",
      "text/plain": [
       "<Figure size 432x288 with 1 Axes>"
      ]
     },
     "metadata": {
      "needs_background": "light"
     },
     "output_type": "display_data"
    }
   ],
   "source": [
    "# image rotated to right\n",
    "rotated = bw_image.rotate(-40, Image.BILINEAR, expand = False) \n",
    "plt.imshow(rotated)"
   ]
  },
  {
   "cell_type": "markdown",
   "metadata": {},
   "source": [
    "## Zoom"
   ]
  },
  {
   "cell_type": "code",
   "execution_count": 10,
   "metadata": {},
   "outputs": [],
   "source": [
    "from scipy.ndimage import zoom"
   ]
  },
  {
   "cell_type": "code",
   "execution_count": 21,
   "metadata": {},
   "outputs": [],
   "source": [
    "zoomed = zoom(rotated, 0.6)"
   ]
  },
  {
   "cell_type": "code",
   "execution_count": 22,
   "metadata": {},
   "outputs": [
    {
     "data": {
      "text/plain": [
       "(17, 17)"
      ]
     },
     "execution_count": 22,
     "metadata": {},
     "output_type": "execute_result"
    }
   ],
   "source": [
    "zoomed.shape"
   ]
  },
  {
   "cell_type": "code",
   "execution_count": 23,
   "metadata": {},
   "outputs": [
    {
     "data": {
      "text/plain": [
       "<matplotlib.image.AxesImage at 0x25d4fdff160>"
      ]
     },
     "execution_count": 23,
     "metadata": {},
     "output_type": "execute_result"
    },
    {
     "data": {
      "image/png": "[encoded data removed]",
      "text/plain": [
       "<Figure size 432x288 with 1 Axes>"
      ]
     },
     "metadata": {
      "needs_background": "light"
     },
     "output_type": "display_data"
    }
   ],
   "source": [
    "plt.imshow(zoomed)"
   ]
  },
  {
   "cell_type": "markdown",
   "metadata": {},
   "source": []
  },
  {
   "cell_type": "markdown",
   "metadata": {},
   "source": [
    "## SHIFT IMAGE"
   ]
  },
  {
   "cell_type": "code",
   "execution_count": 28,
   "metadata": {},
   "outputs": [],
   "source": [
    "# can directly implement in image mode \n",
    "from scipy.ndimage import shift  "
   ]
  },
  {
   "cell_type": "code",
   "execution_count": 29,
   "metadata": {
    "scrolled": true
   },
   "outputs": [
    {
     "data": {
      "image/png": "[encoded data removed]",
      "text/plain": [
       "<PIL.Image.Image image mode=L size=28x28 at 0x25D4137F9D0>"
      ]
     },
     "execution_count": 29,
     "metadata": {},
     "output_type": "execute_result"
    }
   ],
   "source": [
    "bw_image  # image"
   ]
  },
  {
   "cell_type": "code",
   "execution_count": 30,
   "metadata": {},
   "outputs": [],
   "source": [
    "bw_array = np.asarray(bw_image)  # in array mode"
   ]
  },
  {
   "cell_type": "code",
   "execution_count": 31,
   "metadata": {},
   "outputs": [],
   "source": [
    "#directly apply shift in image mode, will convert image to array\n",
    "shifted_image = shift(bw_image,[-4,0],cval=0, mode='constant') "
   ]
  },
  {
   "cell_type": "code",
   "execution_count": 32,
   "metadata": {},
   "outputs": [
    {
     "data": {
      "text/plain": [
       "array([[  0,   0,   0,   0,   0,   0,   0,   0,   0,   0,   0,   0,   0,\n",
       "          0,   0,   0,   0,   0,   0,   0,   0,   0,   0,   0,   0,   0,\n",
       "          0,   0],\n",
       "       [  0,   0,   0,   0,   0,   0,   0,   0,   9,   7,  13, 117, 191,\n",
       "         76,   7,   6,   0,   0,   0,   0,   0,   0,   0,   0,   0,   0,\n",
       "          0,   0],\n",
       "       [  0,   0,   0,   0,   2,  83, 100, 145, 223, 167, 173, 253, 253,\n",
       "        253, 203, 133, 145,  65,   7,   0,   0,   0,   0,   0,   0,   0,\n",
       "          0,   0],\n",
       "       [  0,   0,   0,   0, 106, 253, 253, 253, 253, 253, 253, 253, 253,\n",
       "        253, 254, 253, 253, 253, 184,  38,   0,   0,   0,   0,   0,   0,\n",
       "          0,   0],\n",
       "       [  0,   0,   0,   0, 254, 253, 253, 253, 253, 253, 253, 253, 253,\n",
       "        253, 254, 253, 253, 253, 253, 140,   0,   0,   0,   0,   0,   0,\n",
       "          0,   0],\n",
       "       [  0,   0,   0,   0, 254, 253, 253, 253, 253, 253, 253, 253, 198,\n",
       "        193, 254, 253, 253, 253, 253, 180,   0,   0,   0,   0,   0,   0,\n",
       "          0,   0],\n",
       "       [  0,   0,   0,   0, 220, 253, 243, 123,  94,  60,  60,  60,   6,\n",
       "          0,  60, 118,  88, 253, 253, 236,  37,   0,   0,   0,   0,   0,\n",
       "          0,   0],\n",
       "       [  0,   0,   0,   0,  25,  48,  41,   0,   0,   0,   0,   0,   0,\n",
       "          0,   0,   0,   7, 144, 253, 253, 146,   0,   0,   0,   0,   0,\n",
       "          0,   0],\n",
       "       [  0,   0,   0,   0,   0,   0,   0,   0,   0,   0,   0,   0,   0,\n",
       "          0,   0,   0,   0,  49, 253, 253, 201,  14,   0,   0,   0,   0,\n",
       "          0,   0],\n",
       "       [  0,   0,   0,   0,   0,   0,   0,   0,   0,   0,   0,   0,   0,\n",
       "          0,   0,   0,   0,  49, 253, 253, 217,  21,   0,   0,   0,   0,\n",
       "          0,   0],\n",
       "       [  0,   0,   0,   0,   0,   0,   0,   0,   0,   0,   0,   0,   0,\n",
       "          0,   0,   0,   0,  49, 253, 253, 168,   0,   0,   0,   0,   0,\n",
       "          0,   0],\n",
       "       [  0,   0,   0,   0,   0,   0,   0,   0,   0,   0,   0,   0,   0,\n",
       "          0,   0,   0,   8,  59, 254, 254, 116,   2,   0,   0,   0,   0,\n",
       "          0,   0],\n",
       "       [  0,   0,   0,   0,   0,   0,   0,   0,   0,   0,   0,   0,   0,\n",
       "         12,  89,  88, 212, 253, 253, 253, 253, 160, 145,  18,   0,   0,\n",
       "          0,   0],\n",
       "       [  0,   0,   0,   0,   0,   0,   0,   0,   0,   0,   0,   0,  86,\n",
       "        203, 254, 253, 253, 253, 253, 253, 253, 253, 253, 207,   0,   0,\n",
       "          0,   0],\n",
       "       [  0,   0,   0,   0,   0,   0,   0,   0,   0,   0,   0,  89, 246,\n",
       "        253, 254, 253, 253, 253, 253, 253, 253, 253, 253, 253,   0,   0,\n",
       "          0,   0],\n",
       "       [  0,   0,   0,   0,   0,   0,   0,   0,   0,   0,   0, 218, 253,\n",
       "        253, 254, 253, 253, 253, 253, 253, 253, 253, 253, 166,   0,   0,\n",
       "          0,   0],\n",
       "       [  0,   0,   0,   0,   0,   0,   0,   0,   0,   0, 100, 245, 253,\n",
       "        253, 254, 253, 253, 253, 236,  88,  60, 118,  60,  32,   0,   0,\n",
       "          0,   0],\n",
       "       [  0,   0,   0,   0,   0,   0,   0,   0,   0,  25, 222, 253, 253,\n",
       "        253, 254, 253, 253, 214,  37,   0,   0,   0,   0,   0,   0,   0,\n",
       "          0,   0],\n",
       "       [  0,   0,   0,   0,   0,   0,   0,   0,   0,  73, 253, 253, 253,\n",
       "        253, 254, 253, 239,  69,   0,   0,   0,   0,   0,   0,   0,   0,\n",
       "          0,   0],\n",
       "       [  0,   0,   0,   0,   0,   0,   0,   0,   0,  73, 253, 253, 253,\n",
       "        253, 254, 243, 124,   0,   0,   0,   0,   0,   0,   0,   0,   0,\n",
       "          0,   0],\n",
       "       [  0,   0,   0,   0,   0,   0,   0,   0,   0,   4, 150, 149, 242,\n",
       "        253,  11,  10,   0,   0,   0,   0,   0,   0,   0,   0,   0,   0,\n",
       "          0,   0],\n",
       "       [  0,   0,   0,   0,   0,   0,   0,   0,   0,   0,   0,   0,   0,\n",
       "          0,   0,   0,   0,   0,   0,   0,   0,   0,   0,   0,   0,   0,\n",
       "          0,   0],\n",
       "       [  0,   0,   0,   0,   0,   0,   0,   0,   0,   0,   0,   0,   0,\n",
       "          0,   0,   0,   0,   0,   0,   0,   0,   0,   0,   0,   0,   0,\n",
       "          0,   0],\n",
       "       [  0,   0,   0,   0,   0,   0,   0,   0,   0,   0,   0,   0,   0,\n",
       "          0,   0,   0,   0,   0,   0,   0,   0,   0,   0,   0,   0,   0,\n",
       "          0,   0],\n",
       "       [  0,   0,   0,   0,   0,   0,   0,   0,   0,   0,   0,   0,   0,\n",
       "          0,   0,   0,   0,   0,   0,   0,   0,   0,   0,   0,   0,   0,\n",
       "          0,   0],\n",
       "       [  0,   0,   0,   0,   0,   0,   0,   0,   0,   0,   0,   0,   0,\n",
       "          0,   0,   0,   0,   0,   0,   0,   0,   0,   0,   0,   0,   0,\n",
       "          0,   0],\n",
       "       [  0,   0,   0,   0,   0,   0,   0,   0,   0,   0,   0,   0,   0,\n",
       "          0,   0,   0,   0,   0,   0,   0,   0,   0,   0,   0,   0,   0,\n",
       "          0,   0],\n",
       "       [  0,   0,   0,   0,   0,   0,   0,   0,   0,   0,   0,   0,   0,\n",
       "          0,   0,   0,   0,   0,   0,   0,   0,   0,   0,   0,   0,   0,\n",
       "          0,   0]], dtype=uint8)"
      ]
     },
     "execution_count": 32,
     "metadata": {},
     "output_type": "execute_result"
    }
   ],
   "source": [
    "shifted_image"
   ]
  },
  {
   "cell_type": "code",
   "execution_count": 74,
   "metadata": {},
   "outputs": [
    {
     "data": {
      "text/plain": [
       "'L'"
      ]
     },
     "execution_count": 74,
     "metadata": {},
     "output_type": "execute_result"
    }
   ],
   "source": [
    "shifted_image = Image.fromarray(shifted_image) \n",
    "shifted_image.mode"
   ]
  },
  {
   "cell_type": "code",
   "execution_count": 34,
   "metadata": {},
   "outputs": [
    {
     "data": {
      "text/plain": [
       "<matplotlib.image.AxesImage at 0x25d4fe70dc0>"
      ]
     },
     "execution_count": 34,
     "metadata": {},
     "output_type": "execute_result"
    },
    {
     "data": {
      "image/png": "[encoded data removed]",
      "text/plain": [
       "<Figure size 432x288 with 1 Axes>"
      ]
     },
     "metadata": {
      "needs_background": "light"
     },
     "output_type": "display_data"
    }
   ],
   "source": [
    "plt.imshow(shifted_image) "
   ]
  },
  {
   "cell_type": "code",
   "execution_count": 33,
   "metadata": {},
   "outputs": [],
   "source": [
    "shifted_image = shift(bw_array,[-3,0],cval=0, mode='constant')"
   ]
  },
  {
   "cell_type": "markdown",
   "metadata": {},
   "source": [
    "## BUILD IMAGE AUGMENTATION PIPELINE"
   ]
  },
  {
   "cell_type": "markdown",
   "metadata": {},
   "source": [
    "### Create Training data"
   ]
  },
  {
   "cell_type": "code",
   "execution_count": 35,
   "metadata": {},
   "outputs": [
    {
     "data": {
      "text/plain": [
       "60000"
      ]
     },
     "execution_count": 35,
     "metadata": {},
     "output_type": "execute_result"
    }
   ],
   "source": [
    "from PIL import Image\n",
    "X_train_augmented =  [x for x in X_train]\n",
    "y_train_augmented = [label for label in y_train]\n",
    "len(X_train_augmented)"
   ]
  },
  {
   "cell_type": "code",
   "execution_count": 6,
   "metadata": {},
   "outputs": [
    {
     "data": {
      "text/plain": [
       "180000"
      ]
     },
     "execution_count": 6,
     "metadata": {},
     "output_type": "execute_result"
    }
   ],
   "source": [
    "# Create Rotated training data\n",
    "import random\n",
    "\n",
    "for degree in (1, -1):\n",
    "    for array, label in zip(X_train, y_train):        \n",
    "        slant_list = (20,30)\n",
    "        slant = random.choice(slant_list) * degree\n",
    "        image = Image.fromarray(array)\n",
    "        image = image.rotate(slant, Image.BILINEAR, expand = False)\n",
    "        image = np.asarray(image)\n",
    "        X_train_augmented.append(image)\n",
    "        y_train_augmented.append(label)\n",
    "\n",
    "len(X_train_augmented)       "
   ]
  },
  {
   "cell_type": "code",
   "execution_count": 7,
   "metadata": {},
   "outputs": [
    {
     "data": {
      "text/plain": [
       "<matplotlib.image.AxesImage at 0x23253232700>"
      ]
     },
     "execution_count": 7,
     "metadata": {},
     "output_type": "execute_result"
    },
    {
     "data": {
      "image/png": "[encoded data removed]",
      "text/plain": [
       "<Figure size 432x288 with 1 Axes>"
      ]
     },
     "metadata": {
      "needs_background": "light"
     },
     "output_type": "display_data"
    }
   ],
   "source": [
    "plt.imshow(X_train_augmented[90019])"
   ]
  },
  {
   "cell_type": "code",
   "execution_count": 8,
   "metadata": {
    "scrolled": true
   },
   "outputs": [
    {
     "data": {
      "text/plain": [
       "8"
      ]
     },
     "execution_count": 8,
     "metadata": {},
     "output_type": "execute_result"
    }
   ],
   "source": [
    "y_train_augmented[160012]"
   ]
  },
  {
   "cell_type": "code",
   "execution_count": 9,
   "metadata": {},
   "outputs": [
    {
     "data": {
      "text/plain": [
       "180000"
      ]
     },
     "execution_count": 9,
     "metadata": {},
     "output_type": "execute_result"
    }
   ],
   "source": [
    "# X_aug = X_train_augmented is bad !!!! Try create a copy else the loop will cause issue as X_aug and X_train might refer to same variable array\n",
    "\n",
    "X_aug = [x for x in X_train_augmented]\n",
    "y_aug = [label for label in y_train_augmented]\n",
    "len(X_aug)"
   ]
  },
  {
   "cell_type": "code",
   "execution_count": 21,
   "metadata": {
    "scrolled": true
   },
   "outputs": [
    {
     "name": "stdout",
     "output_type": "stream",
     "text": [
      "10000\n",
      "20000\n",
      "30000\n",
      "40000\n",
      "50000\n",
      "60000\n",
      "70000\n",
      "80000\n",
      "90000\n",
      "100000\n",
      "110000\n",
      "120000\n",
      "130000\n",
      "140000\n",
      "150000\n",
      "160000\n",
      "170000\n",
      "180000\n"
     ]
    }
   ],
   "source": [
    "# d = 3\n",
    "# dist_list = ((d,0),(-d,0),(0,d),(0,-d))\n",
    "# for dx, dy in dist_list:\n",
    "#     for image, label in zip(X_train_augmented[:10], y_train_augmented[:10]):\n",
    "#         X_aug.append(shift(image,[dx, dy], cval=0,mode='constant'))\n",
    "#         y_aug.append(label)\n",
    "\n",
    "# for image, label in zip(X_train_augmented[], y_train_augmented):\n",
    "#     d_choice = (1,2,3)\n",
    "#     d = random.choice(d_choice)\n",
    "#     dist_list = ((d,0),(-d,0),(0,d),(0,-d))\n",
    "#     for dx, dy in dist_list:\n",
    "#         X_aug.append(shift(image,[dx, dy], cval=0,mode='constant'))\n",
    "#         y_aug.append(label)\n",
    "\n",
    "# # Create Shifted training data\n",
    "from scipy.ndimage import shift \n",
    "dist_list = ((1,0),(-1,0),(0,1),(0,-1))\n",
    "\n",
    "i = 1\n",
    "for image, label in zip(X_train_augmented, y_train_augmented):\n",
    "    for dx, dy in dist_list:\n",
    "        if not i%10000 :\n",
    "            print(i)\n",
    "        d_choice = (1,2,3)\n",
    "        d = random.choice(d_choice)\n",
    "        dx, dy = dx * d, dy *d\n",
    "        X_aug.append(shift(image,[dx, dy], cval=0,mode='constant'))\n",
    "        y_aug.append(label)\n",
    "        i += 1\n"
   ]
  },
  {
   "cell_type": "code",
   "execution_count": 24,
   "metadata": {},
   "outputs": [
    {
     "data": {
      "text/plain": [
       "900000"
      ]
     },
     "execution_count": 24,
     "metadata": {},
     "output_type": "execute_result"
    }
   ],
   "source": [
    "len(X_aug)"
   ]
  },
  {
   "cell_type": "code",
   "execution_count": 25,
   "metadata": {},
   "outputs": [
    {
     "data": {
      "text/plain": [
       "<matplotlib.image.AxesImage at 0x232792460d0>"
      ]
     },
     "execution_count": 25,
     "metadata": {},
     "output_type": "execute_result"
    },
    {
     "data": {
      "image/png": "[encoded data removed]",
      "text/plain": [
       "<Figure size 432x288 with 1 Axes>"
      ]
     },
     "metadata": {
      "needs_background": "light"
     },
     "output_type": "display_data"
    }
   ],
   "source": [
    "plt.imshow(X_aug[800000])"
   ]
  },
  {
   "cell_type": "code",
   "execution_count": 26,
   "metadata": {},
   "outputs": [
    {
     "data": {
      "text/plain": [
       "5"
      ]
     },
     "execution_count": 26,
     "metadata": {},
     "output_type": "execute_result"
    }
   ],
   "source": [
    "y_aug[800000]"
   ]
  },
  {
   "cell_type": "code",
   "execution_count": 28,
   "metadata": {},
   "outputs": [],
   "source": [
    "# Convert list of array back to array and shuffle them \n",
    "shuffle = np.random.permutation(len(X_aug))\n",
    "X_aug = np.asarray(X_aug)[shuffle]\n",
    "y_aug = np.asarray(y_aug)[shuffle]"
   ]
  },
  {
   "cell_type": "markdown",
   "metadata": {},
   "source": [
    "### Create Validation data"
   ]
  },
  {
   "cell_type": "code",
   "execution_count": 77,
   "metadata": {},
   "outputs": [
    {
     "data": {
      "text/plain": [
       "10000"
      ]
     },
     "execution_count": 77,
     "metadata": {},
     "output_type": "execute_result"
    }
   ],
   "source": [
    "X_valid_augmented =  [x for x in X_valid]\n",
    "y_valid_augmented = [label for label in y_valid]\n",
    "len(X_valid_augmented)"
   ]
  },
  {
   "cell_type": "code",
   "execution_count": 78,
   "metadata": {},
   "outputs": [
    {
     "data": {
      "text/plain": [
       "30000"
      ]
     },
     "execution_count": 78,
     "metadata": {},
     "output_type": "execute_result"
    }
   ],
   "source": [
    "# Create Rotated training data\n",
    "import random\n",
    "\n",
    "for degree in (1, -1):\n",
    "    for array, label in zip(X_valid, y_valid):        \n",
    "        slant_list = (20,30)\n",
    "        slant = random.choice(slant_list) * degree\n",
    "        image = Image.fromarray(array)\n",
    "        image = image.rotate(slant, Image.BILINEAR, expand = False)\n",
    "        image = np.asarray(image)\n",
    "        X_valid_augmented.append(image)\n",
    "        y_valid_augmented.append(label)\n",
    "\n",
    "len(X_valid_augmented) "
   ]
  },
  {
   "cell_type": "code",
   "execution_count": 81,
   "metadata": {},
   "outputs": [
    {
     "data": {
      "text/plain": [
       "<matplotlib.image.AxesImage at 0x25d016bd8e0>"
      ]
     },
     "execution_count": 81,
     "metadata": {},
     "output_type": "execute_result"
    },
    {
     "data": {
      "image/png": "[encoded data removed]",
      "text/plain": [
       "<Figure size 432x288 with 1 Axes>"
      ]
     },
     "metadata": {
      "needs_background": "light"
     },
     "output_type": "display_data"
    }
   ],
   "source": [
    "plt.imshow(X_valid_augmented[5100])"
   ]
  },
  {
   "cell_type": "code",
   "execution_count": 82,
   "metadata": {},
   "outputs": [
    {
     "data": {
      "text/plain": [
       "9"
      ]
     },
     "execution_count": 82,
     "metadata": {},
     "output_type": "execute_result"
    }
   ],
   "source": [
    "y_valid[5100]"
   ]
  },
  {
   "cell_type": "code",
   "execution_count": 83,
   "metadata": {},
   "outputs": [
    {
     "data": {
      "text/plain": [
       "30000"
      ]
     },
     "execution_count": 83,
     "metadata": {},
     "output_type": "execute_result"
    }
   ],
   "source": [
    "X_valid_aug = [x for x in X_valid_augmented]\n",
    "y_valid_aug = [label for label in y_valid_augmented]\n",
    "len(X_valid_aug)"
   ]
  },
  {
   "cell_type": "code",
   "execution_count": 84,
   "metadata": {},
   "outputs": [
    {
     "name": "stdout",
     "output_type": "stream",
     "text": [
      "10000\n",
      "20000\n",
      "30000\n",
      "40000\n",
      "50000\n",
      "60000\n",
      "70000\n",
      "80000\n",
      "90000\n",
      "100000\n",
      "110000\n",
      "120000\n"
     ]
    }
   ],
   "source": [
    "from scipy.ndimage import shift \n",
    "dist_list = ((1,0),(-1,0),(0,1),(0,-1))\n",
    "\n",
    "i = 1\n",
    "for image, label in zip(X_valid_augmented, y_valid_augmented):\n",
    "    for dx, dy in dist_list:\n",
    "        if not i%10000 :\n",
    "            print(i)\n",
    "        d_choice = (1,2,3)\n",
    "        d = random.choice(d_choice)\n",
    "        dx, dy = dx * d, dy *d\n",
    "        X_valid_aug.append(shift(image,[dx, dy], cval=0,mode='constant'))\n",
    "        y_valid_aug.append(label)\n",
    "        i += 1"
   ]
  },
  {
   "cell_type": "code",
   "execution_count": 85,
   "metadata": {},
   "outputs": [
    {
     "data": {
      "text/plain": [
       "150000"
      ]
     },
     "execution_count": 85,
     "metadata": {},
     "output_type": "execute_result"
    }
   ],
   "source": [
    "len(X_valid_aug)"
   ]
  },
  {
   "cell_type": "code",
   "execution_count": 86,
   "metadata": {},
   "outputs": [],
   "source": [
    "# Convert list of array back to array and shuffle them \n",
    "shuffle = np.random.permutation(len(X_valid_aug))\n",
    "X_valid_aug = np.asarray(X_valid_aug)[shuffle]\n",
    "y_valid_aug = np.asarray(y_valid_aug)[shuffle]"
   ]
  },
  {
   "cell_type": "code",
   "execution_count": 90,
   "metadata": {},
   "outputs": [
    {
     "data": {
      "text/plain": [
       "<matplotlib.image.AxesImage at 0x25d0879e160>"
      ]
     },
     "execution_count": 90,
     "metadata": {},
     "output_type": "execute_result"
    },
    {
     "data": {
      "image/png": "[encoded data removed]",
      "text/plain": [
       "<Figure size 432x288 with 1 Axes>"
      ]
     },
     "metadata": {
      "needs_background": "light"
     },
     "output_type": "display_data"
    }
   ],
   "source": [
    "plt.imshow(X_valid_aug[101101])"
   ]
  },
  {
   "cell_type": "code",
   "execution_count": 89,
   "metadata": {
    "scrolled": false
   },
   "outputs": [
    {
     "data": {
      "text/plain": [
       "7"
      ]
     },
     "execution_count": 89,
     "metadata": {},
     "output_type": "execute_result"
    }
   ],
   "source": [
    "y_valid_aug[101101]"
   ]
  },
  {
   "cell_type": "markdown",
   "metadata": {},
   "source": [
    "##  Convert Array into compressed file "
   ]
  },
  {
   "cell_type": "code",
   "execution_count": 30,
   "metadata": {},
   "outputs": [],
   "source": [
    "from numpy import savez_compressed\n",
    "savez_compressed('Mnist_augmentedX.npz', X_aug)\n",
    "savez_compressed('Mnist_augmentedY.npz', y_aug)"
   ]
  },
  {
   "cell_type": "code",
   "execution_count": 60,
   "metadata": {},
   "outputs": [],
   "source": [
    "y_data = np.load('Mnist_augmentedY.npz')"
   ]
  },
  {
   "cell_type": "code",
   "execution_count": 61,
   "metadata": {},
   "outputs": [
    {
     "data": {
      "text/plain": [
       "(900000,)"
      ]
     },
     "execution_count": 61,
     "metadata": {},
     "output_type": "execute_result"
    }
   ],
   "source": [
    "y_data['arr_0'].shape"
   ]
  },
  {
   "cell_type": "code",
   "execution_count": 62,
   "metadata": {},
   "outputs": [],
   "source": [
    "X_data = np.load('Mnist_augmentedX.npz')"
   ]
  },
  {
   "cell_type": "code",
   "execution_count": 63,
   "metadata": {},
   "outputs": [
    {
     "data": {
      "text/plain": [
       "(900000, 28, 28)"
      ]
     },
     "execution_count": 63,
     "metadata": {},
     "output_type": "execute_result"
    }
   ],
   "source": [
    "X_data['arr_0'].shape"
   ]
  },
  {
   "cell_type": "code",
   "execution_count": 59,
   "metadata": {},
   "outputs": [],
   "source": [
    "from numpy import savez_compressed\n",
    "savez_compressed('Mnist_augmentedX_valid.npz', X_valid_aug)\n",
    "savez_compressed('Mnist_augmentedY_valid.npz', y_valid_aug)"
   ]
  },
  {
   "cell_type": "markdown",
   "metadata": {},
   "source": [
    "## Process data for training"
   ]
  },
  {
   "cell_type": "code",
   "execution_count": 47,
   "metadata": {},
   "outputs": [],
   "source": [
    "X_aug = X_aug.reshape(-1,28*28)"
   ]
  },
  {
   "cell_type": "code",
   "execution_count": 49,
   "metadata": {},
   "outputs": [],
   "source": [
    "X_aug = X_aug/255  # normalize data "
   ]
  },
  {
   "cell_type": "markdown",
   "metadata": {},
   "source": [
    "## Start train new model"
   ]
  },
  {
   "cell_type": "code",
   "execution_count": 4,
   "metadata": {},
   "outputs": [],
   "source": [
    "from Kaerebrum.utils import *\n",
    "from Kaerebrum import Axon"
   ]
  },
  {
   "cell_type": "code",
   "execution_count": 73,
   "metadata": {
    "scrolled": true
   },
   "outputs": [
    {
     "name": "stdout",
     "output_type": "stream",
     "text": [
      "[<function sigmoid at 0x0000023256071E50>, <function sigmoid at 0x0000023256071E50>, <function sigmoid at 0x0000023256071E50>, <function sigmoid at 0x0000023256071E50>]\n",
      "[784, 400, 49, 10]\n",
      "No of iterations/ n_iters: 10\n",
      "Learning rate/ alpha: 0.001\n",
      "Optimizer <function adam at 0x0000023256073430>\n",
      "Loss Function: <function logloss at 0x0000023256073160>\n",
      "Regularization: None\n",
      "Shuffle data on each iteration: False\n",
      "Current accuracy: 0.8604122222222222 for epoch 0:\n",
      "Cost: 0.4585177209116519\n",
      "Current accuracy: 0.9423677777777778 for epoch 1:\n",
      "Cost: 0.18745937226125592\n",
      "Current accuracy: 0.9604433333333333 for epoch 2:\n",
      "Cost: 0.13275804967606464\n",
      "Current accuracy: 0.9689366666666667 for epoch 3:\n",
      "Cost: 0.1062940763603128\n",
      "Current accuracy: 0.9737911111111112 for epoch 4:\n",
      "Cost: 0.08731915299460072\n",
      "Current accuracy: 0.97693 for epoch 5:\n",
      "Cost: 0.07251480603685707\n",
      "Current accuracy: 0.9792811111111112 for epoch 6:\n",
      "Cost: 0.06159639383598653\n",
      "Current accuracy: 0.9812366666666666 for epoch 7:\n",
      "Cost: 0.0542038587614471\n",
      "Current accuracy: 0.9828466666666666 for epoch 8:\n",
      "Cost: 0.049365764099744726\n",
      "Current accuracy: 0.98429 for epoch 9:\n",
      "Cost: 0.045971331771201766\n",
      "Wall time: 28min 59s\n"
     ]
    }
   ],
   "source": [
    "model = Axon([400, 49], 10, 'N', 'He')\n",
    "model.build([sigmoid,sigmoid,sigmoid,sigmoid], optimizer = adam)\n",
    "%time pred = model.train(X_aug, y_aug, epoch = 10, alpha=0.001, batch=512) "
   ]
  },
  {
   "cell_type": "code",
   "execution_count": null,
   "metadata": {},
   "outputs": [],
   "source": [
    "test.accuracy(result[0],y_train)"
   ]
  },
  {
   "cell_type": "code",
   "execution_count": 89,
   "metadata": {},
   "outputs": [],
   "source": [
    "model.save(model,'aug_model')"
   ]
  },
  {
   "cell_type": "markdown",
   "metadata": {},
   "source": [
    "## Check on validation data"
   ]
  },
  {
   "cell_type": "code",
   "execution_count": 91,
   "metadata": {},
   "outputs": [],
   "source": [
    "# process validation data\n",
    "X_valid_aug = X_valid_aug.reshape(-1,28*28)\n",
    "X_valid_aug = X_valid_aug/255"
   ]
  },
  {
   "cell_type": "code",
   "execution_count": 65,
   "metadata": {},
   "outputs": [],
   "source": [
    "import joblib\n",
    "model = joblib.load('aug_model')"
   ]
  },
  {
   "cell_type": "code",
   "execution_count": 97,
   "metadata": {},
   "outputs": [],
   "source": [
    "pred = model.predict(X_valid.reshape(-1,28*28)/255)"
   ]
  },
  {
   "cell_type": "code",
   "execution_count": 98,
   "metadata": {},
   "outputs": [
    {
     "data": {
      "text/plain": [
       "0.9845"
      ]
     },
     "execution_count": 98,
     "metadata": {},
     "output_type": "execute_result"
    }
   ],
   "source": [
    "model.accuracy(pred[0], y_valid)"
   ]
  },
  {
   "cell_type": "code",
   "execution_count": null,
   "metadata": {},
   "outputs": [],
   "source": []
  }
 ],
 "metadata": {
  "kernelspec": {
   "display_name": "tensor",
   "language": "python",
   "name": "tensor"
  },
  "language_info": {
   "codemirror_mode": {
    "name": "ipython",
    "version": 3
   },
   "file_extension": ".py",
   "mimetype": "text/x-python",
   "name": "python",
   "nbconvert_exporter": "python",
   "pygments_lexer": "ipython3",
   "version": "3.8.11"
  }
 },
 "nbformat": 4,
 "nbformat_minor": 4
}
